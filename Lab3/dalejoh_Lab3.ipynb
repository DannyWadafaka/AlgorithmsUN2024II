{
  "cells": [
    {
      "cell_type": "markdown",
      "metadata": {
        "id": "view-in-github",
        "colab_type": "text"
      },
      "source": [
        "<a href=\"https://colab.research.google.com/github/DannyWadafaka/AlgorithmsUN2024II/blob/main/Lab3/dalejoh_Lab3.ipynb\" target=\"_parent\"><img src=\"https://colab.research.google.com/assets/colab-badge.svg\" alt=\"Open In Colab\"/></a>"
      ]
    },
    {
      "cell_type": "code",
      "execution_count": null,
      "metadata": {
        "id": "im-VVd1__7VU",
        "colab": {
          "base_uri": "https://localhost:8080/"
        },
        "outputId": "0b5b215f-7e93-4933-c785-69a74e6529d3"
      },
      "outputs": [
        {
          "output_type": "stream",
          "name": "stdout",
          "text": [
            "processor\t: 0\n",
            "vendor_id\t: GenuineIntel\n",
            "cpu family\t: 6\n",
            "model\t\t: 79\n",
            "model name\t: Intel(R) Xeon(R) CPU @ 2.20GHz\n",
            "stepping\t: 0\n",
            "microcode\t: 0xffffffff\n",
            "cpu MHz\t\t: 2199.998\n",
            "cache size\t: 56320 KB\n",
            "physical id\t: 0\n",
            "siblings\t: 2\n",
            "core id\t\t: 0\n",
            "cpu cores\t: 1\n",
            "apicid\t\t: 0\n",
            "initial apicid\t: 0\n",
            "fpu\t\t: yes\n",
            "fpu_exception\t: yes\n",
            "cpuid level\t: 13\n",
            "wp\t\t: yes\n",
            "flags\t\t: fpu vme de pse tsc msr pae mce cx8 apic sep mtrr pge mca cmov pat pse36 clflush mmx fxsr sse sse2 ss ht syscall nx pdpe1gb rdtscp lm constant_tsc rep_good nopl xtopology nonstop_tsc cpuid tsc_known_freq pni pclmulqdq ssse3 fma cx16 pcid sse4_1 sse4_2 x2apic movbe popcnt aes xsave avx f16c rdrand hypervisor lahf_lm abm 3dnowprefetch invpcid_single ssbd ibrs ibpb stibp fsgsbase tsc_adjust bmi1 hle avx2 smep bmi2 erms invpcid rtm rdseed adx smap xsaveopt arat md_clear arch_capabilities\n",
            "bugs\t\t: cpu_meltdown spectre_v1 spectre_v2 spec_store_bypass l1tf mds swapgs taa mmio_stale_data retbleed bhi\n",
            "bogomips\t: 4399.99\n",
            "clflush size\t: 64\n",
            "cache_alignment\t: 64\n",
            "address sizes\t: 46 bits physical, 48 bits virtual\n",
            "power management:\n",
            "\n",
            "processor\t: 1\n",
            "vendor_id\t: GenuineIntel\n",
            "cpu family\t: 6\n",
            "model\t\t: 79\n",
            "model name\t: Intel(R) Xeon(R) CPU @ 2.20GHz\n",
            "stepping\t: 0\n",
            "microcode\t: 0xffffffff\n",
            "cpu MHz\t\t: 2199.998\n",
            "cache size\t: 56320 KB\n",
            "physical id\t: 0\n",
            "siblings\t: 2\n",
            "core id\t\t: 0\n",
            "cpu cores\t: 1\n",
            "apicid\t\t: 1\n",
            "initial apicid\t: 1\n",
            "fpu\t\t: yes\n",
            "fpu_exception\t: yes\n",
            "cpuid level\t: 13\n",
            "wp\t\t: yes\n",
            "flags\t\t: fpu vme de pse tsc msr pae mce cx8 apic sep mtrr pge mca cmov pat pse36 clflush mmx fxsr sse sse2 ss ht syscall nx pdpe1gb rdtscp lm constant_tsc rep_good nopl xtopology nonstop_tsc cpuid tsc_known_freq pni pclmulqdq ssse3 fma cx16 pcid sse4_1 sse4_2 x2apic movbe popcnt aes xsave avx f16c rdrand hypervisor lahf_lm abm 3dnowprefetch invpcid_single ssbd ibrs ibpb stibp fsgsbase tsc_adjust bmi1 hle avx2 smep bmi2 erms invpcid rtm rdseed adx smap xsaveopt arat md_clear arch_capabilities\n",
            "bugs\t\t: cpu_meltdown spectre_v1 spectre_v2 spec_store_bypass l1tf mds swapgs taa mmio_stale_data retbleed bhi\n",
            "bogomips\t: 4399.99\n",
            "clflush size\t: 64\n",
            "cache_alignment\t: 64\n",
            "address sizes\t: 46 bits physical, 48 bits virtual\n",
            "power management:\n",
            "\n"
          ]
        }
      ],
      "source": [
        "!cat /proc/cpuinfo"
      ]
    },
    {
      "cell_type": "markdown",
      "metadata": {
        "id": "N1ok_-56OjB1"
      },
      "source": [
        "# I Solving the Sum of Two Digits Programming Challenge"
      ]
    },
    {
      "cell_type": "markdown",
      "metadata": {
        "id": "MMY7kmDSO0KM"
      },
      "source": [
        "## C++"
      ]
    },
    {
      "cell_type": "code",
      "execution_count": null,
      "metadata": {
        "colab": {
          "base_uri": "https://localhost:8080/"
        },
        "id": "2pGGf9BkPNIk",
        "outputId": "6608c743-0b08-4ad1-e110-5de3037c920f"
      },
      "outputs": [
        {
          "output_type": "stream",
          "name": "stdout",
          "text": [
            "Writing APlusB.cpp\n"
          ]
        }
      ],
      "source": [
        "%%writefile APlusB.cpp\n",
        "#include <iostream>\n",
        "\n",
        "int sum_of_two_digits(int first_digit, int second_digit) {\n",
        "    return first_digit + second_digit;\n",
        "}\n",
        "\n",
        "int main() {\n",
        "    int a = 0;\n",
        "    int b = 0;\n",
        "    std::cin >> a;\n",
        "    std::cin >> b;\n",
        "    std::cout << sum_of_two_digits(a, b);\n",
        "    return 0;\n",
        "}"
      ]
    },
    {
      "cell_type": "code",
      "execution_count": null,
      "metadata": {
        "colab": {
          "base_uri": "https://localhost:8080/"
        },
        "id": "0G3ZKOYAPXSU",
        "outputId": "eb700fc3-478c-4684-b537-b06b3fdbc4de"
      },
      "outputs": [
        {
          "output_type": "stream",
          "name": "stdout",
          "text": [
            "^C\n"
          ]
        }
      ],
      "source": [
        "!g++ APlusB.cpp -o APlusB -std=c++11\n",
        "!./APlusB"
      ]
    },
    {
      "cell_type": "markdown",
      "metadata": {
        "id": "iNkG2HqfTl9c"
      },
      "source": [
        "### Test input output files"
      ]
    },
    {
      "cell_type": "code",
      "execution_count": null,
      "metadata": {
        "colab": {
          "base_uri": "https://localhost:8080/"
        },
        "id": "aTzU2efzMxly",
        "outputId": "663a6090-60b0-4b85-d7aa-7fcbfaead01d"
      },
      "outputs": [
        {
          "output_type": "stream",
          "name": "stdout",
          "text": [
            "Writing input1.txt\n"
          ]
        }
      ],
      "source": [
        "%%writefile input1.txt\n",
        "4 8"
      ]
    },
    {
      "cell_type": "code",
      "execution_count": null,
      "metadata": {
        "colab": {
          "base_uri": "https://localhost:8080/"
        },
        "id": "zBJ0Gc0NQRet",
        "outputId": "12d06eeb-a30f-4cd0-9aff-b746b176f82a"
      },
      "outputs": [
        {
          "output_type": "stream",
          "name": "stdout",
          "text": [
            "Writing output1.txt\n"
          ]
        }
      ],
      "source": [
        "%%writefile output1.txt\n",
        "12"
      ]
    },
    {
      "cell_type": "code",
      "execution_count": null,
      "metadata": {
        "colab": {
          "base_uri": "https://localhost:8080/"
        },
        "id": "IjEcIx63PJAN",
        "outputId": "38ceb583-a993-4530-dc7a-ec7435b3be40"
      },
      "outputs": [
        {
          "output_type": "stream",
          "name": "stdout",
          "text": [
            "Writing input2.txt\n"
          ]
        }
      ],
      "source": [
        "%%writefile input2.txt\n",
        "0 9"
      ]
    },
    {
      "cell_type": "code",
      "execution_count": null,
      "metadata": {
        "colab": {
          "base_uri": "https://localhost:8080/"
        },
        "id": "Up9gOrxURTmd",
        "outputId": "d9e4c9a2-c70c-4283-9776-f1c26199bcad"
      },
      "outputs": [
        {
          "output_type": "stream",
          "name": "stdout",
          "text": [
            "Writing output2.txt\n"
          ]
        }
      ],
      "source": [
        "%%writefile output2.txt\n",
        "9"
      ]
    },
    {
      "cell_type": "code",
      "execution_count": null,
      "metadata": {
        "colab": {
          "base_uri": "https://localhost:8080/"
        },
        "id": "PST6G-s-Pwgc",
        "outputId": "c8d3d3bc-d975-412e-bdfd-791f54c66b2b"
      },
      "outputs": [
        {
          "output_type": "stream",
          "name": "stdout",
          "text": [
            "12"
          ]
        }
      ],
      "source": [
        "!./APlusB < input1.txt"
      ]
    },
    {
      "cell_type": "code",
      "execution_count": null,
      "metadata": {
        "colab": {
          "base_uri": "https://localhost:8080/"
        },
        "id": "cKxZOjSlRfIN",
        "outputId": "076d9e35-5325-4a9c-bf8e-c2b175ec0de8"
      },
      "outputs": [
        {
          "output_type": "stream",
          "name": "stdout",
          "text": [
            "9"
          ]
        }
      ],
      "source": [
        "!./APlusB < input2.txt"
      ]
    },
    {
      "cell_type": "markdown",
      "metadata": {
        "id": "Qw2TQWCCUwqk"
      },
      "source": [
        "### Comparing files with grep\n",
        "\n",
        "https://askubuntu.com/questions/546796/comparing-two-text-files"
      ]
    },
    {
      "cell_type": "code",
      "execution_count": null,
      "metadata": {
        "id": "Jlja0Xm4TX9M"
      },
      "outputs": [],
      "source": [
        "!./APlusB < input1.txt> ctest1.txt\n",
        "!grep -xvFf output1.txt ctest1.txt"
      ]
    },
    {
      "cell_type": "code",
      "execution_count": null,
      "metadata": {
        "id": "g9OIUZA_QLCQ",
        "colab": {
          "base_uri": "https://localhost:8080/"
        },
        "outputId": "7ff085d1-2a31-4271-9f0b-8e27d56b604c"
      },
      "outputs": [
        {
          "output_type": "stream",
          "name": "stdout",
          "text": [
            "/bin/bash: line 1: input2.txt: No such file or directory\n",
            "grep: output2.txt: No such file or directory\n"
          ]
        }
      ],
      "source": [
        "!./APlusB < input2.txt > ctest2.txt\n",
        "!grep -xvFf output2.txt ctest2.txt"
      ]
    },
    {
      "cell_type": "markdown",
      "metadata": {
        "id": "3BgOaDjUVJk6"
      },
      "source": [
        "## Python"
      ]
    },
    {
      "cell_type": "code",
      "execution_count": null,
      "metadata": {
        "colab": {
          "base_uri": "https://localhost:8080/"
        },
        "id": "DBvl-T0CTN_8",
        "outputId": "139f7d4f-652f-4a4b-d6ea-a74ad989a9b7"
      },
      "outputs": [
        {
          "output_type": "stream",
          "name": "stdout",
          "text": [
            "Writing sum.py\n"
          ]
        }
      ],
      "source": [
        "%%writefile sum.py\n",
        "# python3\n",
        "\n",
        "def sum_of_two_digits(first_digit, second_digit):\n",
        "    return first_digit + second_digit\n",
        "\n",
        "if __name__ == '__main__':\n",
        "    a, b = map(int, input().split())\n",
        "    print(sum_of_two_digits(a, b))"
      ]
    },
    {
      "cell_type": "code",
      "execution_count": null,
      "metadata": {
        "colab": {
          "base_uri": "https://localhost:8080/"
        },
        "id": "QKoKM11_WGyF",
        "outputId": "d5da1b1f-6b08-409a-839f-05938d1c4bd0"
      },
      "outputs": [
        {
          "output_type": "stream",
          "name": "stdout",
          "text": [
            "Traceback (most recent call last):\n",
            "  File \"/content/sum.py\", line 7, in <module>\n",
            "    a, b = map(int, input().split())\n",
            "KeyboardInterrupt\n",
            "^C\n"
          ]
        }
      ],
      "source": [
        "!python sum.py"
      ]
    },
    {
      "cell_type": "code",
      "execution_count": null,
      "metadata": {
        "id": "cocFbPRTWrqt"
      },
      "outputs": [],
      "source": [
        "!python sum.py  < input1.txt> ptest1.txt\n",
        "!grep -xvFf output1.txt ptest1.txt"
      ]
    },
    {
      "cell_type": "code",
      "execution_count": null,
      "metadata": {
        "id": "MorKTa-XXASN"
      },
      "outputs": [],
      "source": [
        "!python sum.py  < input2.txt> ptest2.txt\n",
        "!grep -xvFf output2.txt ptest2.txt"
      ]
    },
    {
      "cell_type": "markdown",
      "metadata": {
        "id": "uvP-mOubW_5F"
      },
      "source": [
        "# II Solving The Maximum Pairwise Product Programming Challenge in C++"
      ]
    },
    {
      "cell_type": "markdown",
      "metadata": {
        "id": "C12yoFR6Xonl"
      },
      "source": [
        "## C++\n",
        "\n",
        "$$ T(n) < 6 n^2 = O(n^2)$$"
      ]
    },
    {
      "cell_type": "code",
      "source": [
        "%%writefile max_pairwise_product_full.cpp\n",
        "#include <iostream>\n",
        "#include <vector>\n",
        "#include <algorithm>\n",
        "\n",
        "int MaxPairwiseProduct(const std::vector<int>& numbers) {\n",
        "    int max_product = 0;\n",
        "    int aux_product = 0;\n",
        "    int n = numbers.size();\n",
        "\n",
        "    for (int first = 0; first < n; ++first) {\n",
        "        for (int second = 0; second < n; ++second) {\n",
        "          if ( first != second ){\n",
        "                aux_product = numbers[first] * numbers[second];\n",
        "                if (aux_product > max_product)  max_product = aux_product;\n",
        "          }\n",
        "        }\n",
        "    }\n",
        "\n",
        "    return max_product;\n",
        "}\n",
        "\n",
        "int main() {\n",
        "    int n;\n",
        "    std::cin >> n;\n",
        "    std::vector<int> numbers(n);\n",
        "    for (int i = 0; i < n; ++i) {\n",
        "        std::cin >> numbers[i];\n",
        "    }\n",
        "\n",
        "    std::cout << MaxPairwiseProduct(numbers) << \"\\n\";\n",
        "    return 0;\n",
        "}"
      ],
      "metadata": {
        "colab": {
          "base_uri": "https://localhost:8080/"
        },
        "id": "3LpfoGv2Ae81",
        "outputId": "fd98116e-108c-46ae-f876-c970f3f36a7e"
      },
      "execution_count": 2,
      "outputs": [
        {
          "output_type": "stream",
          "name": "stdout",
          "text": [
            "Writing max_pairwise_product_full.cpp\n"
          ]
        }
      ]
    },
    {
      "cell_type": "markdown",
      "metadata": {
        "id": "m75IQQPbEHBS"
      },
      "source": [
        "#### Time Complexity\n",
        "$$\\left. \\begin{array}{llc}\n",
        " \\text{INSTRUCTION} & \\text{TYPE}& \\text{# EXECUTIONS}\\\\\n",
        "\\text{first != second} &  \\text{comparisons} &n^2 \\\\\n",
        "\\text{numbers[first] * numbers[second]}& \\ \\text{ products}  &n^2 - n \\\\\n",
        "\\text{max_product = aux_product} &  \\text{assigments} & [1, \\frac{n^2 - n}{2})  \n",
        "\\end{array}\\right\\}  =  O(n^2)$$"
      ]
    },
    {
      "cell_type": "code",
      "source": [
        "!g++ max_pairwise_product_full.cpp -o max_pairwise_product_full\n",
        "!./max_pairwise_product_full"
      ],
      "metadata": {
        "id": "PCVo1h6nCF9k",
        "colab": {
          "base_uri": "https://localhost:8080/"
        },
        "outputId": "76265655-11a0-4b13-82fb-effd1f0b3dd9"
      },
      "execution_count": 4,
      "outputs": [
        {
          "output_type": "stream",
          "name": "stdout",
          "text": [
            "7\n",
            "48 78 41 01 11 12 4\n",
            "3744\n"
          ]
        }
      ]
    },
    {
      "cell_type": "markdown",
      "metadata": {
        "id": "e7KhxHGNS3i0"
      },
      "source": [
        "### Test 1: Small numbers"
      ]
    },
    {
      "cell_type": "code",
      "source": [
        "%%writefile input0.txt\n",
        "10\n",
        "0 0 0 0 0 0 0 0 0 0"
      ],
      "metadata": {
        "colab": {
          "base_uri": "https://localhost:8080/"
        },
        "id": "17npyXt7lYzA",
        "outputId": "b9d69963-c29f-4bc0-f178-b7fcab2a8ffd"
      },
      "execution_count": 5,
      "outputs": [
        {
          "output_type": "stream",
          "name": "stdout",
          "text": [
            "Writing input0.txt\n"
          ]
        }
      ]
    },
    {
      "cell_type": "code",
      "source": [
        "%%writefile output0.txt\n",
        "0"
      ],
      "metadata": {
        "colab": {
          "base_uri": "https://localhost:8080/"
        },
        "id": "NooGEkJylezm",
        "outputId": "a3b515ab-97f2-4d25-c633-82b9409ecdc1"
      },
      "execution_count": 6,
      "outputs": [
        {
          "output_type": "stream",
          "name": "stdout",
          "text": [
            "Writing output0.txt\n"
          ]
        }
      ]
    },
    {
      "cell_type": "code",
      "source": [
        "!./max_pairwise_product_full< input0.txt > ctest0.txt\n",
        "!grep -xvFf output0.txt ctest0.txt"
      ],
      "metadata": {
        "id": "R0yFaAOrlqrE"
      },
      "execution_count": 7,
      "outputs": []
    },
    {
      "cell_type": "code",
      "execution_count": 8,
      "metadata": {
        "colab": {
          "base_uri": "https://localhost:8080/"
        },
        "id": "e1mmTzBgShT-",
        "outputId": "fa325b47-bf0e-4dbb-b448-4a37e8d4e93b"
      },
      "outputs": [
        {
          "output_type": "stream",
          "name": "stdout",
          "text": [
            "Writing input1.txt\n"
          ]
        }
      ],
      "source": [
        "%%writefile input1.txt\n",
        "10\n",
        "1 2 3 4 5 6 7 8 9 10"
      ]
    },
    {
      "cell_type": "code",
      "execution_count": 9,
      "metadata": {
        "colab": {
          "base_uri": "https://localhost:8080/"
        },
        "id": "vy_uI0x7TCId",
        "outputId": "e44f7fb0-ca8f-4eca-922c-0fb889adc84c"
      },
      "outputs": [
        {
          "output_type": "stream",
          "name": "stdout",
          "text": [
            "/bin/bash: line 1: ./max_pairwise_product: No such file or directory\n"
          ]
        }
      ],
      "source": [
        "!./max_pairwise_product < input1.txt"
      ]
    },
    {
      "cell_type": "code",
      "execution_count": 10,
      "metadata": {
        "colab": {
          "base_uri": "https://localhost:8080/"
        },
        "id": "xaj6f9bxC6D6",
        "outputId": "5c8bbaf3-a525-4586-c994-2d9720bdac1e"
      },
      "outputs": [
        {
          "output_type": "stream",
          "name": "stdout",
          "text": [
            "Writing output1.txt\n"
          ]
        }
      ],
      "source": [
        "%%writefile output1.txt\n",
        "90"
      ]
    },
    {
      "cell_type": "code",
      "execution_count": null,
      "metadata": {
        "id": "fYCjAdA_C-wy",
        "colab": {
          "base_uri": "https://localhost:8080/"
        },
        "outputId": "7ef9b884-10e1-4493-a4cf-a8e54608aa57"
      },
      "outputs": [
        {
          "output_type": "stream",
          "name": "stdout",
          "text": [
            "grep: output1.txt: No such file or directory\n"
          ]
        }
      ],
      "source": [
        "!./max_pairwise_product_full< input1.txt > ctest1.txt\n",
        "!grep -xvFf output1.txt ctest1.txt"
      ]
    },
    {
      "cell_type": "code",
      "source": [
        "%%writefile input2.txt\n",
        "10\n",
        "10 9 8 7 6 5 4 3 2 1"
      ],
      "metadata": {
        "colab": {
          "base_uri": "https://localhost:8080/"
        },
        "id": "ZPe40LY14_6f",
        "outputId": "d64b0bc1-ad5c-485a-991c-d04b84e9fed5"
      },
      "execution_count": null,
      "outputs": [
        {
          "output_type": "stream",
          "name": "stdout",
          "text": [
            "Overwriting input2.txt\n"
          ]
        }
      ]
    },
    {
      "cell_type": "code",
      "source": [
        "%%writefile output2.txt\n",
        "90"
      ],
      "metadata": {
        "colab": {
          "base_uri": "https://localhost:8080/"
        },
        "id": "xiHmF7HA5Faa",
        "outputId": "0092c193-0891-4758-c3ee-68b2a834dbb0"
      },
      "execution_count": null,
      "outputs": [
        {
          "output_type": "stream",
          "name": "stdout",
          "text": [
            "Overwriting output2.txt\n"
          ]
        }
      ]
    },
    {
      "cell_type": "code",
      "source": [
        "!./max_pairwise_product_full< input2.txt > ctest2.txt\n",
        "!grep -xvFf output2.txt ctest2.txt"
      ],
      "metadata": {
        "id": "jjwc9kwb5t_k"
      },
      "execution_count": null,
      "outputs": []
    },
    {
      "cell_type": "markdown",
      "metadata": {
        "id": "IeZ3kTjpYmR9"
      },
      "source": [
        "### Test 2: largest input numbers 200000 200000 to check possible intger overflow"
      ]
    },
    {
      "cell_type": "code",
      "execution_count": 26,
      "metadata": {
        "colab": {
          "base_uri": "https://localhost:8080/"
        },
        "id": "LQNlZqaqYt7U",
        "outputId": "729d975c-7707-4c77-a7ae-b01873a62eae"
      },
      "outputs": [
        {
          "output_type": "stream",
          "name": "stdout",
          "text": [
            "Overwriting input3.txt\n"
          ]
        }
      ],
      "source": [
        "%%writefile input3.txt\n",
        "6\n",
        "1 3 100000 9 90000 23"
      ]
    },
    {
      "cell_type": "code",
      "execution_count": 27,
      "metadata": {
        "colab": {
          "base_uri": "https://localhost:8080/"
        },
        "id": "GjQq7QOUCw-9",
        "outputId": "02992248-2835-4f2b-8356-541f1cc62c9f"
      },
      "outputs": [
        {
          "output_type": "execute_result",
          "data": {
            "text/plain": [
              "9000000000"
            ]
          },
          "metadata": {},
          "execution_count": 27
        }
      ],
      "source": [
        "100000*90000"
      ]
    },
    {
      "cell_type": "code",
      "execution_count": 28,
      "metadata": {
        "colab": {
          "base_uri": "https://localhost:8080/"
        },
        "id": "EuS6n3jtDK5C",
        "outputId": "b2890a4f-0b42-4c0e-ac73-da4a93dea5ce"
      },
      "outputs": [
        {
          "output_type": "stream",
          "name": "stdout",
          "text": [
            "Overwriting output3.txt\n"
          ]
        }
      ],
      "source": [
        "%%writefile output3.txt\n",
        "9000000000"
      ]
    },
    {
      "cell_type": "code",
      "execution_count": 29,
      "metadata": {
        "colab": {
          "base_uri": "https://localhost:8080/"
        },
        "id": "2Wad2VZUZDxR",
        "outputId": "02c28b55-4fbd-423a-9bd1-fc045510e491"
      },
      "outputs": [
        {
          "output_type": "stream",
          "name": "stdout",
          "text": [
            "410065408\n"
          ]
        }
      ],
      "source": [
        "!./max_pairwise_product_full < input3.txt"
      ]
    },
    {
      "cell_type": "code",
      "execution_count": 30,
      "metadata": {
        "colab": {
          "base_uri": "https://localhost:8080/"
        },
        "id": "pEvp1ieyDJGq",
        "outputId": "5b3c2111-f648-4e7c-82f5-db5ad44b790b"
      },
      "outputs": [
        {
          "output_type": "stream",
          "name": "stdout",
          "text": [
            "410065408\n"
          ]
        }
      ],
      "source": [
        "!./max_pairwise_product_full < input3.txt > ctest3.txt\n",
        "!grep -xvFf output3.txt ctest3.txt"
      ]
    },
    {
      "cell_type": "code",
      "source": [
        " %%writefile run_all_test.sh\n",
        "#!/bin/bash\n",
        "g++ max_pairwise_product_full.cpp -o max_pairwise_product_full\n",
        "for i in {0..3}\n",
        "do\n",
        "    ./max_pairwise_product_full < input$i.txt > ctest$i.txt\n",
        "    grep -xvFf output$i.txt ctest$i.txt\n",
        "done"
      ],
      "metadata": {
        "colab": {
          "base_uri": "https://localhost:8080/"
        },
        "id": "SrtJrKqM-God",
        "outputId": "a25417a3-903b-4e00-f4cd-df07a4763f92"
      },
      "execution_count": 16,
      "outputs": [
        {
          "output_type": "stream",
          "name": "stdout",
          "text": [
            "Writing run_all_test.sh\n"
          ]
        }
      ]
    },
    {
      "cell_type": "code",
      "source": [
        "!chmod u+x run_all_test.sh\n",
        "!./run_all_test.sh"
      ],
      "metadata": {
        "colab": {
          "base_uri": "https://localhost:8080/"
        },
        "id": "wGWMHtzS-QnA",
        "outputId": "f47eeb0e-c812-4b74-e95e-7c8ad7ae22d8"
      },
      "execution_count": 17,
      "outputs": [
        {
          "output_type": "stream",
          "name": "stdout",
          "text": [
            "./run_all_test.sh: line 5: input2.txt: No such file or directory\n",
            "grep: output2.txt: No such file or directory\n",
            "1345294336\n"
          ]
        }
      ]
    },
    {
      "cell_type": "markdown",
      "metadata": {
        "id": "H2SC0Qt5HCzz"
      },
      "source": [
        "### Changing the variables to long long"
      ]
    },
    {
      "cell_type": "code",
      "execution_count": 34,
      "metadata": {
        "colab": {
          "base_uri": "https://localhost:8080/"
        },
        "id": "MPcmsxiQZSfE",
        "outputId": "4053a2b6-63fd-438e-86a9-0a622334e0d2"
      },
      "outputs": [
        {
          "output_type": "stream",
          "name": "stdout",
          "text": [
            "Overwriting max_pairwise_product_long_full.cpp\n"
          ]
        }
      ],
      "source": [
        "%%writefile max_pairwise_product_long_full.cpp\n",
        "#include <iostream>\n",
        "#include <vector>\n",
        "#include <algorithm>\n",
        "\n",
        "long long MaxPairwiseProduct(const std::vector<int>& numbers) {\n",
        "    long long max_product = 0LL;\n",
        "\t  long long aux_product = 0LL;\n",
        "    int n = numbers.size();\n",
        "\n",
        "    for (int first = 0; first < n; ++first) {\n",
        "        for (int second = 0; second < n; ++second) {\n",
        "          if ( first != second){\n",
        "                aux_product = (long long) numbers[first] * numbers[second];\n",
        "                if (aux_product > max_product)  max_product = aux_product;\n",
        "          }\n",
        "        }\n",
        "    }\n",
        "\n",
        "\n",
        "    return max_product;\n",
        "}\n",
        "\n",
        "int main() {\n",
        "    int n;\n",
        "    std::cin >> n;\n",
        "    std::vector<int> numbers(n);\n",
        "    for (int i = 0; i < n; ++i) {\n",
        "        std::cin >> numbers[i];\n",
        "    }\n",
        "\n",
        "    std::cout << MaxPairwiseProduct(numbers) << \"\\n\";\n",
        "    return 0;\n",
        "}\n"
      ]
    },
    {
      "cell_type": "code",
      "source": [
        "!g++ max_pairwise_product_long_full.cpp -o max_pairwise_product_long_full"
      ],
      "metadata": {
        "id": "W3xQpFXL6wjO"
      },
      "execution_count": 35,
      "outputs": []
    },
    {
      "cell_type": "code",
      "source": [
        "!./max_pairwise_product_long_full < input3.txt"
      ],
      "metadata": {
        "colab": {
          "base_uri": "https://localhost:8080/"
        },
        "id": "H5dvN9M3R9sV",
        "outputId": "f951761f-1e94-43e1-fa5b-b2ffd3ea8ebb"
      },
      "execution_count": 36,
      "outputs": [
        {
          "output_type": "stream",
          "name": "stdout",
          "text": [
            "9000000000\n"
          ]
        }
      ]
    },
    {
      "cell_type": "markdown",
      "source": [
        "### Runing multuple test with a bash shell"
      ],
      "metadata": {
        "id": "gx-sEYdfQ8f8"
      }
    },
    {
      "cell_type": "code",
      "source": [
        " %%writefile run_all_test.sh\n",
        "#!/bin/bash\n",
        "g++ max_pairwise_product_long_full.cpp -o max_pairwise_product_long_full\n",
        "for i in {1..3}\n",
        "do\n",
        "    ./max_pairwise_product_long_full < input$i.txt > ctest$i.txt\n",
        "    grep -xvFf output$i.txt ctest$i.txt\n",
        "done"
      ],
      "metadata": {
        "colab": {
          "base_uri": "https://localhost:8080/"
        },
        "id": "O9qsq2nn7elw",
        "outputId": "70a02d76-188d-40e8-dfb0-20a4ccca799c"
      },
      "execution_count": 37,
      "outputs": [
        {
          "output_type": "stream",
          "name": "stdout",
          "text": [
            "Overwriting run_all_test.sh\n"
          ]
        }
      ]
    },
    {
      "cell_type": "code",
      "source": [
        " %%writefile run_all_test.sh\n",
        "#!/bin/bash\n",
        "g++ max_pairwise_product_full.cpp -o max_pairwise_product_full\n",
        "for i in {1..3}\n",
        "do\n",
        "    ./max_pairwise_product_full < input$i.txt > ctest$i.txt\n",
        "    grep -xvFf output$i.txt ctest$i.txt\n",
        "done"
      ],
      "metadata": {
        "colab": {
          "base_uri": "https://localhost:8080/"
        },
        "id": "9vaJskZm8I_5",
        "outputId": "14d61e1e-442f-4fd5-a8a9-42998a39053b"
      },
      "execution_count": 40,
      "outputs": [
        {
          "output_type": "stream",
          "name": "stdout",
          "text": [
            "Overwriting run_all_test.sh\n"
          ]
        }
      ]
    },
    {
      "cell_type": "code",
      "source": [
        "!chmod u+x run_all_test.sh\n",
        "!./run_all_test.sh"
      ],
      "metadata": {
        "id": "0g5kKVph7xIA",
        "colab": {
          "base_uri": "https://localhost:8080/"
        },
        "outputId": "6e702127-3183-41bb-e20c-04933bd15822"
      },
      "execution_count": 41,
      "outputs": [
        {
          "output_type": "stream",
          "name": "stdout",
          "text": [
            "./run_all_test.sh: line 5: input2.txt: No such file or directory\n",
            "grep: output2.txt: No such file or directory\n",
            "410065408\n"
          ]
        }
      ]
    },
    {
      "cell_type": "markdown",
      "metadata": {
        "id": "XPVHkHxH6_7s"
      },
      "source": [
        "### Test 3  stress tests, 6 testing cases files input4.txt/output4.txt .. input10.txt/output10.txt\n",
        "\n",
        "---\n",
        "\n"
      ]
    },
    {
      "cell_type": "code",
      "execution_count": null,
      "metadata": {
        "id": "PwqpBmYr69fu",
        "colab": {
          "base_uri": "https://localhost:8080/"
        },
        "outputId": "a241ec15-7974-48ab-e774-9b18df251ad0"
      },
      "outputs": [
        {
          "output_type": "stream",
          "name": "stdout",
          "text": [
            "Overwriting input4.txt\n"
          ]
        }
      ],
      "source": [
        "%%writefile input4.txt\n",
        "4\n",
        "10 300 700000"
      ]
    },
    {
      "cell_type": "code",
      "execution_count": null,
      "metadata": {
        "id": "jBCkMeR6Fw4y",
        "colab": {
          "base_uri": "https://localhost:8080/"
        },
        "outputId": "e6ee605b-eb4a-4e5a-a1d0-55feacfc26cc"
      },
      "outputs": [
        {
          "output_type": "stream",
          "name": "stdout",
          "text": [
            "Overwriting output4.txt\n"
          ]
        }
      ],
      "source": [
        "%%writefile output4.txt\n",
        "210000000"
      ]
    },
    {
      "cell_type": "code",
      "source": [
        "%%writefile input5.txt\n",
        "8\n",
        "40 888 47 999 52 4000 7878 8989"
      ],
      "metadata": {
        "id": "zED8V8wu-eoM",
        "colab": {
          "base_uri": "https://localhost:8080/"
        },
        "outputId": "064aadd1-86a4-4533-d679-f102bc355ff1"
      },
      "execution_count": null,
      "outputs": [
        {
          "output_type": "stream",
          "name": "stdout",
          "text": [
            "Writing input5.txt\n"
          ]
        }
      ]
    },
    {
      "cell_type": "code",
      "source": [
        "%%writefile output5.txt\n",
        "70815342"
      ],
      "metadata": {
        "colab": {
          "base_uri": "https://localhost:8080/"
        },
        "id": "vr24y7EsloKs",
        "outputId": "891512b2-4d60-4da7-fb44-1ca6586474a3"
      },
      "execution_count": null,
      "outputs": [
        {
          "output_type": "stream",
          "name": "stdout",
          "text": [
            "Writing output5.txt\n"
          ]
        }
      ]
    },
    {
      "cell_type": "code",
      "source": [
        "%%writefile input6.txt\n",
        "3\n",
        "2 1 1"
      ],
      "metadata": {
        "colab": {
          "base_uri": "https://localhost:8080/"
        },
        "id": "0nhK4sJKl2C6",
        "outputId": "3c1a512c-4985-49e7-e2ab-78024fd79355"
      },
      "execution_count": null,
      "outputs": [
        {
          "output_type": "stream",
          "name": "stdout",
          "text": [
            "Writing input6.txt\n"
          ]
        }
      ]
    },
    {
      "cell_type": "code",
      "source": [
        "%%writefile output6.txt\n",
        "2"
      ],
      "metadata": {
        "colab": {
          "base_uri": "https://localhost:8080/"
        },
        "id": "tNj6Q03ol8w4",
        "outputId": "7a9e65ae-20db-47bf-a8a4-f172635933bc"
      },
      "execution_count": null,
      "outputs": [
        {
          "output_type": "stream",
          "name": "stdout",
          "text": [
            "Writing output6.txt\n"
          ]
        }
      ]
    },
    {
      "cell_type": "code",
      "source": [
        "%%writefile input7.txt\n",
        "5\n",
        "1 2 2 2 800000"
      ],
      "metadata": {
        "colab": {
          "base_uri": "https://localhost:8080/"
        },
        "id": "DC6jlA7il_9J",
        "outputId": "48246473-a5c6-4dca-8ef8-739322a0aad7"
      },
      "execution_count": null,
      "outputs": [
        {
          "output_type": "stream",
          "name": "stdout",
          "text": [
            "Writing input7.txt\n"
          ]
        }
      ]
    },
    {
      "cell_type": "code",
      "source": [
        "%%writefile output7.txt\n",
        "1600000"
      ],
      "metadata": {
        "colab": {
          "base_uri": "https://localhost:8080/"
        },
        "id": "4YM1GcbNmE3Y",
        "outputId": "fa80d58f-4fc0-4131-d3c3-3421bb4a66bf"
      },
      "execution_count": null,
      "outputs": [
        {
          "output_type": "stream",
          "name": "stdout",
          "text": [
            "Writing output7.txt\n"
          ]
        }
      ]
    },
    {
      "cell_type": "code",
      "source": [
        "%%writefile input8.txt\n",
        "2\n",
        "1 8"
      ],
      "metadata": {
        "colab": {
          "base_uri": "https://localhost:8080/"
        },
        "id": "3zs7JObzmThw",
        "outputId": "c945f683-aa09-48f7-ebbc-bafba5b33758"
      },
      "execution_count": null,
      "outputs": [
        {
          "output_type": "stream",
          "name": "stdout",
          "text": [
            "Writing input8.txt\n"
          ]
        }
      ]
    },
    {
      "cell_type": "code",
      "source": [
        "%%writefile output8.txt\n",
        "8"
      ],
      "metadata": {
        "colab": {
          "base_uri": "https://localhost:8080/"
        },
        "id": "tR2W0esxmZUg",
        "outputId": "0247b346-f409-48ef-d913-1462a37b498d"
      },
      "execution_count": null,
      "outputs": [
        {
          "output_type": "stream",
          "name": "stdout",
          "text": [
            "Writing output8.txt\n"
          ]
        }
      ]
    },
    {
      "cell_type": "code",
      "source": [
        "%%writefile input9.txt\n",
        "1\n",
        "8"
      ],
      "metadata": {
        "colab": {
          "base_uri": "https://localhost:8080/"
        },
        "id": "Z5lrS4fpmcQY",
        "outputId": "d33896eb-d9ae-4590-e052-143d30d27076"
      },
      "execution_count": null,
      "outputs": [
        {
          "output_type": "stream",
          "name": "stdout",
          "text": [
            "Writing input9.txt\n"
          ]
        }
      ]
    },
    {
      "cell_type": "code",
      "source": [
        "%%writefile output9.txt\n",
        "8"
      ],
      "metadata": {
        "colab": {
          "base_uri": "https://localhost:8080/"
        },
        "id": "3M7N7fmMml_6",
        "outputId": "ba849ad6-a4f6-4a41-e24d-2211369bfb89"
      },
      "execution_count": null,
      "outputs": [
        {
          "output_type": "stream",
          "name": "stdout",
          "text": [
            "Writing output9.txt\n"
          ]
        }
      ]
    },
    {
      "cell_type": "code",
      "source": [
        "%%writefile input10.txt\n",
        "9\n",
        "4 78 98 52 444 6333 2111 010101 48"
      ],
      "metadata": {
        "colab": {
          "base_uri": "https://localhost:8080/"
        },
        "id": "uTuhQLy2msV0",
        "outputId": "51359899-b933-4ad7-d1e2-3e00a66b41d3"
      },
      "execution_count": null,
      "outputs": [
        {
          "output_type": "stream",
          "name": "stdout",
          "text": [
            "Writing input10.txt\n"
          ]
        }
      ]
    },
    {
      "cell_type": "code",
      "source": [
        "%%writefile output10.txt\n",
        "63969633"
      ],
      "metadata": {
        "colab": {
          "base_uri": "https://localhost:8080/"
        },
        "id": "-resWlhTmyZ8",
        "outputId": "06711684-3b9c-417f-f823-a5461cdac0d2"
      },
      "execution_count": null,
      "outputs": [
        {
          "output_type": "stream",
          "name": "stdout",
          "text": [
            "Writing output10.txt\n"
          ]
        }
      ]
    },
    {
      "cell_type": "code",
      "source": [
        " %%writefile run_all_test.sh\n",
        "#!/bin/bash\n",
        "g++ max_pairwise_product_long_full.cpp -o max_pairwise_product_long_full\n",
        "for i in {4..10}\n",
        "do\n",
        "    ./max_pairwise_product_long_full < input$i.txt > ctest$i.txt\n",
        "    grep -xvFf output$i.txt ctest$i.txt\n",
        "done"
      ],
      "metadata": {
        "colab": {
          "base_uri": "https://localhost:8080/"
        },
        "id": "4Y4NRPdZnGPd",
        "outputId": "5bca8c83-9053-4c55-882d-cff1e5eef8c0"
      },
      "execution_count": null,
      "outputs": [
        {
          "output_type": "stream",
          "name": "stdout",
          "text": [
            "Overwriting run_all_test.sh\n"
          ]
        }
      ]
    },
    {
      "cell_type": "code",
      "source": [
        "!chmod u+x run_all_test.sh\n",
        "!./run_all_test.sh"
      ],
      "metadata": {
        "colab": {
          "base_uri": "https://localhost:8080/"
        },
        "id": "VS1dE3WTnLaM",
        "outputId": "080eb2a1-55f2-4fe5-a9a7-63cb6ea1c18f"
      },
      "execution_count": null,
      "outputs": [
        {
          "output_type": "stream",
          "name": "stdout",
          "text": [
            "\u001b[01m\u001b[Kcc1plus:\u001b[m\u001b[K \u001b[01;31m\u001b[Kfatal error: \u001b[m\u001b[Kmax_pairwise_product_long_full.cpp: No such file or directory\n",
            "compilation terminated.\n",
            "./run_all_test.sh: line 5: ./max_pairwise_product_long_full: No such file or directory\n",
            "./run_all_test.sh: line 5: ./max_pairwise_product_long_full: No such file or directory\n",
            "./run_all_test.sh: line 5: ./max_pairwise_product_long_full: No such file or directory\n",
            "./run_all_test.sh: line 5: ./max_pairwise_product_long_full: No such file or directory\n",
            "./run_all_test.sh: line 5: ./max_pairwise_product_long_full: No such file or directory\n",
            "./run_all_test.sh: line 5: ./max_pairwise_product_long_full: No such file or directory\n",
            "./run_all_test.sh: line 5: ./max_pairwise_product_long_full: No such file or directory\n"
          ]
        }
      ]
    },
    {
      "cell_type": "markdown",
      "metadata": {
        "id": "9z9yr5QkeyJF"
      },
      "source": [
        "### Test 4  time test  measure the execution time running with the the largest worst cases input11.txt  (200000 increasing numbers) and input12.txt (199998 increasing numbers and  200000, 200000 at the end)"
      ]
    },
    {
      "cell_type": "code",
      "source": [
        "# input11.txt 200000 increasing numbers:  1 2 .. 200000\n",
        "\n",
        "%%writefile WriteTest.cpp\n",
        "\n",
        "#include <iostream>\n",
        "#include <fstream>\n",
        "#include <cstdlib>\n",
        "\n",
        "using namespace std;\n",
        "\n",
        "int main() {\n",
        "  // Create and open a text file\n",
        "  ofstream MyFile(\"input11.txt\");\n",
        "\n",
        " MyFile << 200000 <<\"\\n\";  // n\n",
        " for (int i=1; i <200001; i++){\n",
        "     MyFile << i <<\" \";\n",
        " }\n",
        "\n",
        "  // Close the file\n",
        "  MyFile.close();\n",
        "}"
      ],
      "metadata": {
        "colab": {
          "base_uri": "https://localhost:8080/"
        },
        "id": "UmB1ipWM_nSk",
        "outputId": "ad2a3771-c10a-4c9d-ec71-96d2ba99c144"
      },
      "execution_count": 44,
      "outputs": [
        {
          "output_type": "stream",
          "name": "stdout",
          "text": [
            "Overwriting WriteTest.cpp\n"
          ]
        }
      ]
    },
    {
      "cell_type": "code",
      "execution_count": 43,
      "metadata": {
        "id": "EH25TkOkZfD9"
      },
      "outputs": [],
      "source": [
        "!g++ WriteTest.cpp -o WriteTest\n",
        "!./WriteTest"
      ]
    },
    {
      "cell_type": "code",
      "source": [
        "199999 * 200000"
      ],
      "metadata": {
        "colab": {
          "base_uri": "https://localhost:8080/"
        },
        "id": "j0mokSOnCCtZ",
        "outputId": "48727ea2-2603-4a11-ec99-6d3f497c9e99"
      },
      "execution_count": null,
      "outputs": [
        {
          "output_type": "execute_result",
          "data": {
            "text/plain": [
              "39999800000"
            ]
          },
          "metadata": {},
          "execution_count": 26
        }
      ]
    },
    {
      "cell_type": "code",
      "source": [
        "%%writefile output11.txt\n",
        "39999800000"
      ],
      "metadata": {
        "id": "VoDhDV73B5Mo",
        "colab": {
          "base_uri": "https://localhost:8080/"
        },
        "outputId": "ff2c3c65-9dee-49bf-e22c-6e19fa01694c"
      },
      "execution_count": null,
      "outputs": [
        {
          "output_type": "stream",
          "name": "stdout",
          "text": [
            "Writing output11.txt\n"
          ]
        }
      ]
    },
    {
      "cell_type": "code",
      "execution_count": 45,
      "metadata": {
        "colab": {
          "base_uri": "https://localhost:8080/"
        },
        "id": "oLiMjbAIfPlX",
        "outputId": "9fd28780-0575-4f94-c7bb-b6ba8e223f3f"
      },
      "outputs": [
        {
          "output_type": "stream",
          "name": "stdout",
          "text": [
            "Overwriting WriteTest.cpp\n"
          ]
        }
      ],
      "source": [
        "# input12.txt 200000 decreasing numbers and 200000, 199999 ...  2 1\n",
        "\n",
        "%%writefile WriteTest.cpp\n",
        "\n",
        "#include <iostream>\n",
        "#include <fstream>\n",
        "#include <cstdlib>\n",
        "\n",
        "using namespace std;\n",
        "\n",
        "int main() {\n",
        "  // Create and open a text file\n",
        "  ofstream MyFile(\"input12.txt\");\n",
        "\n",
        " MyFile << 200000 <<\"\\n\";  // n\n",
        " for (int i=1; i <200001; i++){\n",
        "     MyFile << 200001-i <<\" \";\n",
        " }\n",
        "\n",
        "  // Close the file\n",
        "  MyFile.close();\n",
        "}"
      ]
    },
    {
      "cell_type": "code",
      "source": [
        "!g++ WriteTest.cpp -o WriteTest\n",
        "!./WriteTest"
      ],
      "metadata": {
        "id": "oULNBr_zAd9c"
      },
      "execution_count": 46,
      "outputs": []
    },
    {
      "cell_type": "code",
      "source": [
        "%%writefile output12.txt\n",
        "39999800000"
      ],
      "metadata": {
        "colab": {
          "base_uri": "https://localhost:8080/"
        },
        "id": "PQLyocaFB-y4",
        "outputId": "cba191ff-b24f-4fd2-c7de-2e19b3e1b897"
      },
      "execution_count": 47,
      "outputs": [
        {
          "output_type": "stream",
          "name": "stdout",
          "text": [
            "Overwriting output12.txt\n"
          ]
        }
      ]
    },
    {
      "cell_type": "markdown",
      "metadata": {
        "id": "JB6f03qO-lj9"
      },
      "source": [
        "### Measure time\n",
        "\n",
        "https://askubuntu.com/questions/53444/how-can-i-measure-the-execution-time-of-a-terminal-process"
      ]
    },
    {
      "cell_type": "code",
      "execution_count": 48,
      "metadata": {
        "colab": {
          "base_uri": "https://localhost:8080/"
        },
        "id": "6p2QLEr576zk",
        "outputId": "18613c31-9f2a-417f-d136-7936548920b1"
      },
      "outputs": [
        {
          "output_type": "stream",
          "name": "stdout",
          "text": [
            "39999800000\n",
            "\n",
            "real\t5m6.352s\n",
            "user\t5m2.454s\n",
            "sys\t0m0.107s\n"
          ]
        }
      ],
      "source": [
        "!g++ max_pairwise_product_long_full.cpp -o max_pairwise_product_long_full\n",
        "!time ./max_pairwise_product_long_full< input11.txt"
      ]
    },
    {
      "cell_type": "code",
      "source": [
        "!g++ max_pairwise_product_long_full.cpp -o max_pairwise_product_long_full\n",
        "!time ./max_pairwise_product_long_full< input12.txt"
      ],
      "metadata": {
        "colab": {
          "base_uri": "https://localhost:8080/"
        },
        "id": "cnjCyeUdAnZj",
        "outputId": "d1f663e0-f63e-4bbb-f3a7-9d97e7a289c2"
      },
      "execution_count": null,
      "outputs": [
        {
          "output_type": "stream",
          "name": "stdout",
          "text": [
            "39999800000\n",
            "\n",
            "real\t4m58.630s\n",
            "user\t4m55.509s\n",
            "sys\t0m0.084s\n"
          ]
        }
      ]
    },
    {
      "cell_type": "markdown",
      "metadata": {
        "id": "FXClpBsUJuXC"
      },
      "source": [
        "### Calculate the number or and upper bound to the number of instructions executed by the algorithm as a function of n, add in each line a comment with the number of instructions that are executed in that line."
      ]
    },
    {
      "cell_type": "code",
      "execution_count": null,
      "metadata": {
        "colab": {
          "base_uri": "https://localhost:8080/"
        },
        "id": "uG6Mv-Pwlkii",
        "outputId": "0e5fe110-8398-40b1-e65c-30ec1da0f78a"
      },
      "outputs": [
        {
          "output_type": "stream",
          "name": "stdout",
          "text": [
            "Overwriting max_pairwise_product_long_full.cpp\n"
          ]
        }
      ],
      "source": [
        "%%writefile max_pairwise_product_long_full.cpp\n",
        "#include <iostream>\n",
        "#include <vector>\n",
        "#include <algorithm>\n",
        "\n",
        "long long MaxPairwiseProduct(const std::vector<int>& numbers) {              //INSTRUCTIONS executed by line\n",
        "    long long max_product = 0LL;                                             //1\n",
        "\t  long long aux_product = 0LL;                                             //1\n",
        "    int n = numbers.size();                                                  //1\n",
        "\n",
        "    for (int first = 0; first < n; ++first) {                                //2+2n\n",
        "        for (int second = 0; second < n; ++second) {                         //2n + 2n**2\n",
        "          if ( first != second ){                                            //n**2\n",
        "                aux_product = numbers[first] * numbers[second];              //n**2 -n\n",
        "                if (aux_product > max_product)                               //n**2 -n\n",
        "                    max_product = aux_product;                               //[0, n**2/2 - n/2] upper bound\n",
        "          }\n",
        "        }\n",
        "    }\n",
        "\n",
        "                                                                             // --------------\n",
        "    return max_product;                                                      // 5 + 2*n + [5*n**2, 11*n**2/2  - n/2]  upper bound\n",
        "}\n",
        "\n",
        "int main() {                                              //INSTRUCTIONS executed by line\n",
        "    int n;                                                //1\n",
        "    std::cin >> n;                                        //1\n",
        "    std::vector<int> numbers(n);                          //n\n",
        "    for (int i = 0; i < n; ++i) {                         //2 + 2n\n",
        "        std::cin >> numbers[i];                           //n\n",
        "    }\n",
        "\n",
        "    std::cout << MaxPairwiseProduct(numbers) << \"\\n\";     //1 + 1  + 5 + 2*n + [5*n**2, 11*n**2/2  - n/2]\n",
        "\n",
        "    return 0;                                             // --------------\n",
        "}                                                         //  11 + 6*n + [5*n**2, 11*n**2/2  - n/2]  upper bound\n"
      ]
    },
    {
      "cell_type": "markdown",
      "metadata": {
        "id": "0vTsUg8OwcHs"
      },
      "source": [
        "### Count executed intructions in code"
      ]
    },
    {
      "cell_type": "code",
      "execution_count": null,
      "metadata": {
        "colab": {
          "base_uri": "https://localhost:8080/"
        },
        "id": "CuRKkqQc137V",
        "outputId": "414430d7-f83a-46f5-841a-ca6beb445ec4"
      },
      "outputs": [
        {
          "output_type": "stream",
          "name": "stdout",
          "text": [
            "Overwriting max_pairwise_product_long_full_execints.cpp\n"
          ]
        }
      ],
      "source": [
        "%%writefile max_pairwise_product_long_full_execints.cpp\n",
        "#include <iostream>\n",
        "#include <vector>\n",
        "#include <algorithm>\n",
        "\n",
        "long long MaxPairwiseProduct(const std::vector<int>& numbers, long long &execints) {      //INSTRUCTIONS executed by line\n",
        "\n",
        "    long long max_product = 0LL;                                                          //1\n",
        "    execints++;\n",
        "\n",
        "\t  long long aux_product = 0LL;                                                          //1\n",
        "    execints++;\n",
        "\n",
        "    int n = numbers.size();                                                               //1\n",
        "    execints++;\n",
        "\n",
        "    execints++;\n",
        "    for (int first = 0; first < n; ++first) {                                             //2+2n\n",
        "        execints += 2;\n",
        "\n",
        "        execints++;\n",
        "        for (int second = 0; second < n; ++second) {                                       //2n + 2n**2\n",
        "          execints += 2;\n",
        "\n",
        "          execints++;\n",
        "          if ( first != second ){                                                         //n**2\n",
        "                aux_product = numbers[first] * numbers[second];                           //n**2 -n\n",
        "                execints++;\n",
        "\n",
        "                execints++;\n",
        "                if (aux_product > max_product){                                           //n**2 -n\n",
        "                    max_product = aux_product;                                            //[0,n**2/2 - n/2)  upper bound\n",
        "                    execints++;\n",
        "\n",
        "                }\n",
        "        }\n",
        "\n",
        "      }\n",
        "      execints++;\n",
        "    }\n",
        "    execints++;\n",
        "                                                                                        // --------------\n",
        "    return max_product;                                                                 // 5 + 2*n + [5*n**2, 11*n**2/2  - n/2] upper bound\n",
        "}\n",
        "\n",
        "int main() {                                                 //INSTRUCTIONS executed by line\n",
        "\n",
        "    long long execints =0LL;\n",
        "\n",
        "    int n;                                                   //1\n",
        "    execints++;\n",
        "\n",
        "    std::cin >> n;                                           //1\n",
        "    execints++;\n",
        "\n",
        "    std::vector<int> numbers(n);                             //n\n",
        "    execints += n;\n",
        "\n",
        "    execints++;\n",
        "    for (int i = 0; i < n; ++i) {                            //2 + 2n\n",
        "        execints += 2;\n",
        "\n",
        "        std::cin >> numbers[i];\n",
        "        execints++;                                          //n\n",
        "\n",
        "    }\n",
        "\n",
        "\n",
        "    //std::cout << MaxPairwiseProduct(numbers) << \"\\n\";      //1 + 1  + 5 + 2*n + [5*n**2, 11*n**2/2  - n/2] upper bound\n",
        "\n",
        "    execints++;\n",
        "    int M = MaxPairwiseProduct(numbers,execints);\n",
        "\n",
        "    execints++;\n",
        "    std::cout <<  execints << \"\\n\";\n",
        "    return 0;                                                // --------------\n",
        "}                                                            // 11 + 6*n + [5*n**2, 11*n**2/2  - n/2]"
      ]
    },
    {
      "cell_type": "markdown",
      "source": [
        "The number of instructions executed by the algooirithm with a list of size $n$ is  \n",
        "\n",
        "$$T (n) = 11 + 6n + \\left[5n^2, 11\\frac{n^2}{2}  - \\frac{n}{2}\\right)  >  6n^2 = O(n^2)$$\n",
        "\n",
        "It depends on the size of the lists and  the order of the list.\n",
        "\n",
        "For the input0.txt\n",
        "```\n",
        "10\n",
        "0 0 0 0 0 0 0 0 0 0\n",
        "```\n",
        "$$T = 11 + 6(10) + 5(10)^2   = 561 $$\n",
        "\n",
        "$$T(10) \\in [571, 621)  $$\n"
      ],
      "metadata": {
        "id": "cUjHtvtdDsmr"
      }
    },
    {
      "cell_type": "code",
      "source": [
        "!g++ max_pairwise_product_long_full_execints.cpp -o max_pairwise_product_long_full_execints\n",
        "!./max_pairwise_product_long_full_execints < input0.txt"
      ],
      "metadata": {
        "colab": {
          "base_uri": "https://localhost:8080/"
        },
        "id": "Om9Fevb0miAT",
        "outputId": "b4f71f1c-3b81-4e88-9901-fe14a79cd844"
      },
      "execution_count": null,
      "outputs": [
        {
          "output_type": "stream",
          "name": "stdout",
          "text": [
            "571\n"
          ]
        }
      ]
    },
    {
      "cell_type": "markdown",
      "source": [
        "For the input1.txt\n",
        "```\n",
        "10\n",
        "1 2 3 4 5 6 7 8 9 10\n",
        "```\n",
        "$$T = 11 + 6(10) + 5(10)^2 +  9 + 5 + 4 + 3 + 2 + 2 + 2 + 2 + 1 + 0  = 601 $$\n",
        "\n",
        "$$T(10) \\in [572, 622)  $$\n"
      ],
      "metadata": {
        "id": "FwJzZ6VzmArY"
      }
    },
    {
      "cell_type": "code",
      "source": [
        "#The number of times that  max_product = aux_product; in the worst case is less than (n**2 -n)/2 -  upper bound\n",
        "\n",
        "#     1  2  3  4  5  6  7  8  9  10\n",
        "#  1  x  2  3  4  5  6  7  8  9  10         9\n",
        "#  2  2  x  6  8  10 12 14 16 18 20         5 14\n",
        "#  3  3  6  x  12 15 18 21 24 27 30         4 18\n",
        "#  4  4  8  12 x  20 24 28 32 36 40         3 21\n",
        "#  5  5  10 15 20 x  30 35 40 45 50         2 23\n",
        "#  6  6  12 18 24 30 x  42 48 54 60         2 25\n",
        "#  7  7  14 21 28 35 42 x  56 63 70         2 27\n",
        "#  8  8  18 27 36 45 54 63 72 x  90         1 30\n",
        "#  10 10 20 30 40 50 60 70 60 90 x          0"
      ],
      "metadata": {
        "id": "K59xQMWiBNFj"
      },
      "execution_count": null,
      "outputs": []
    },
    {
      "cell_type": "code",
      "source": [
        "11 + 6*(10) + 5*(10)*(10) +  9 + 5 + 4 + 3 + 2 + 2 + 2 + 2 + 1 + 0"
      ],
      "metadata": {
        "colab": {
          "base_uri": "https://localhost:8080/"
        },
        "id": "E3O8dzFfEgir",
        "outputId": "ef3f0b71-aea7-45d6-dbda-305be4669f8d"
      },
      "execution_count": null,
      "outputs": [
        {
          "output_type": "execute_result",
          "data": {
            "text/plain": [
              "601"
            ]
          },
          "metadata": {},
          "execution_count": 82
        }
      ]
    },
    {
      "cell_type": "code",
      "source": [
        "n = 10\n",
        "print( \"[\", 11 + 6*n + 5*n**2,  \",\", 11 + 6*n  + 5.5*n**2, \")\")"
      ],
      "metadata": {
        "colab": {
          "base_uri": "https://localhost:8080/"
        },
        "id": "TCpdl5u_Gq1a",
        "outputId": "908511b0-6e5b-4503-845d-867942a1f888"
      },
      "execution_count": null,
      "outputs": [
        {
          "output_type": "stream",
          "name": "stdout",
          "text": [
            "[ 571 , 621.0 )\n"
          ]
        }
      ]
    },
    {
      "cell_type": "code",
      "execution_count": null,
      "metadata": {
        "colab": {
          "base_uri": "https://localhost:8080/"
        },
        "id": "Kuvm1C05ly2a",
        "outputId": "ea67bcbf-2740-4333-9e06-c08006d88b5d"
      },
      "outputs": [
        {
          "output_type": "stream",
          "name": "stdout",
          "text": [
            "44\n",
            "44\n",
            "601\n"
          ]
        }
      ],
      "source": [
        "!g++ max_pairwise_product_long_full_execints.cpp -o max_pairwise_product_long_full_execints\n",
        "!./max_pairwise_product_long_full_execints < input1.txt"
      ]
    },
    {
      "cell_type": "markdown",
      "source": [
        "\n",
        "For the input2.txt\n",
        "```\n",
        "10\n",
        "10 9 8 7 6 5 4 3 2 1\n",
        "```\n",
        "$$T = 11 + 6*(10) + 5*(10)**2 +  1  = 571 $$"
      ],
      "metadata": {
        "id": "Yr_Lb7CaHfxB"
      }
    },
    {
      "cell_type": "code",
      "source": [
        "11 + 6*(10) + 5*(10)**2 +  1"
      ],
      "metadata": {
        "colab": {
          "base_uri": "https://localhost:8080/"
        },
        "id": "HOdqlwJiZUIp",
        "outputId": "0558fe10-221f-4537-eaab-c0515ea1b22c"
      },
      "execution_count": null,
      "outputs": [
        {
          "output_type": "execute_result",
          "data": {
            "text/plain": [
              "572"
            ]
          },
          "metadata": {},
          "execution_count": 54
        }
      ]
    },
    {
      "cell_type": "code",
      "source": [
        "!g++ max_pairwise_product_long_full_execints.cpp -o max_pairwise_product_long_full_execints\n",
        "!./max_pairwise_product_long_full_execints < input2.txt"
      ],
      "metadata": {
        "id": "_znzLectjFSe",
        "colab": {
          "base_uri": "https://localhost:8080/"
        },
        "outputId": "c29cd54b-653c-420e-9ea9-c232b1def807"
      },
      "execution_count": null,
      "outputs": [
        {
          "output_type": "stream",
          "name": "stdout",
          "text": [
            "572\n"
          ]
        }
      ]
    },
    {
      "cell_type": "markdown",
      "metadata": {
        "id": "NXW7QkoBL6xH"
      },
      "source": [
        "Calculate estimated time by instruction and number of instructions by second"
      ]
    },
    {
      "cell_type": "markdown",
      "source": [
        "For the input11.txt\n",
        "```\n",
        "200000\n",
        "1 2 ..  199999 2000\n",
        "```\n",
        "$$T = 11 + 6*(200000) + 5.5*(200000)**2  = 200001200012  $$"
      ],
      "metadata": {
        "id": "dlyRjaohz-YH"
      }
    },
    {
      "cell_type": "code",
      "source": [
        "!g++ max_pairwise_product_long_full_execints.cpp -o max_pairwise_product_long_full_execints\n",
        "!./max_pairwise_product_long_full_execints < input11.txt"
      ],
      "metadata": {
        "colab": {
          "base_uri": "https://localhost:8080/"
        },
        "id": "BMH8mF3EKn2w",
        "outputId": "59a227ed-24b9-494a-d476-d45f33b3d395"
      },
      "execution_count": null,
      "outputs": [
        {
          "output_type": "stream",
          "name": "stdout",
          "text": [
            "200003177092\n"
          ]
        }
      ]
    },
    {
      "cell_type": "code",
      "execution_count": null,
      "metadata": {
        "colab": {
          "base_uri": "https://localhost:8080/"
        },
        "id": "pKqB3i7dIxnc",
        "outputId": "c3d75520-0c34-4970-b331-6cbec92fb0be"
      },
      "outputs": [
        {
          "output_type": "execute_result",
          "data": {
            "text/plain": [
              "1.4749765693187072e-09"
            ]
          },
          "metadata": {},
          "execution_count": 60
        }
      ],
      "source": [
        "# Estimated time by instruction\n",
        "# use the real reported  !time ./max_pairwise_product_long_full< input11.txt in seconds intead of the 295\n",
        "\n",
        "295/200003177092\n"
      ]
    },
    {
      "cell_type": "code",
      "execution_count": null,
      "metadata": {
        "colab": {
          "base_uri": "https://localhost:8080/"
        },
        "id": "18N1ouqeMhE1",
        "outputId": "e92c5ec2-ee15-47c4-e4a9-ff32a7ff7e0f"
      },
      "outputs": [
        {
          "output_type": "execute_result",
          "data": {
            "text/plain": [
              "677976871.4983051"
            ]
          },
          "metadata": {},
          "execution_count": 61
        }
      ],
      "source": [
        "# Estimated number of instructions by second\n",
        "\n",
        "200003177092/295"
      ]
    },
    {
      "cell_type": "markdown",
      "source": [
        "### Estimate and verify the maximun n that can be solved in 1 second\n",
        "\n",
        "$$(5.5n^2 + 5.5n + 11) \\times 1.47*10^{-9} s = 1 s$$\n",
        "\n",
        "$$ n \\approx 11000$$\n"
      ],
      "metadata": {
        "id": "KyuxejFkL5X_"
      }
    },
    {
      "cell_type": "code",
      "source": [
        "# Verify input13.txt\n",
        "%%writefile WriteTest.cpp\n",
        "\n",
        "#include <iostream>\n",
        "#include <fstream>\n",
        "#include <cstdlib>\n",
        "\n",
        "using namespace std;\n",
        "\n",
        "int main() {\n",
        "  // Create and open a text file\n",
        "  ofstream MyFile(\"input13.txt\");\n",
        "\n",
        " MyFile << 11000 <<\"\\n\";  // n\n",
        " for (int i=1; i <11001; i++){\n",
        "     MyFile << i <<\" \";\n",
        " }\n",
        "\n",
        "  // Close the file\n",
        "  MyFile.close();\n",
        "}"
      ],
      "metadata": {
        "colab": {
          "base_uri": "https://localhost:8080/"
        },
        "id": "WXu5jp-DLTOI",
        "outputId": "eac5be7b-fd23-4d01-f902-2716f2734b8a"
      },
      "execution_count": null,
      "outputs": [
        {
          "output_type": "stream",
          "name": "stdout",
          "text": [
            "Writing WriteTest.cpp\n"
          ]
        }
      ]
    },
    {
      "cell_type": "code",
      "source": [
        "!g++ WriteTest.cpp -o WriteTest\n",
        "!./WriteTest"
      ],
      "metadata": {
        "id": "AQ8N52pUMCeT"
      },
      "execution_count": null,
      "outputs": []
    },
    {
      "cell_type": "code",
      "source": [
        "10999 * 11000"
      ],
      "metadata": {
        "colab": {
          "base_uri": "https://localhost:8080/"
        },
        "id": "2iIOdbTrEtBx",
        "outputId": "0f8aa433-13ed-409f-9542-d51d6e34b8a1"
      },
      "execution_count": null,
      "outputs": [
        {
          "output_type": "execute_result",
          "data": {
            "text/plain": [
              "120989000"
            ]
          },
          "metadata": {},
          "execution_count": 48
        }
      ]
    },
    {
      "cell_type": "code",
      "source": [
        "!g++ max_pairwise_product_long_full.cpp -o max_pairwise_product_long_full\n",
        "!time ./max_pairwise_product_long_full< input13.txt"
      ],
      "metadata": {
        "colab": {
          "base_uri": "https://localhost:8080/"
        },
        "id": "ussuAokfM2du",
        "outputId": "ba3d238a-5675-4bae-93cb-f086d7d75f14"
      },
      "execution_count": null,
      "outputs": [
        {
          "output_type": "stream",
          "name": "stdout",
          "text": [
            "\u001b[01m\u001b[Kcc1plus:\u001b[m\u001b[K \u001b[01;31m\u001b[Kfatal error: \u001b[m\u001b[Kmax_pairwise_product_long_full.cpp: No such file or directory\n",
            "compilation terminated.\n",
            "/bin/bash: line 1: ./max_pairwise_product_long_full: No such file or directory\n",
            "\n",
            "real\t0m0.001s\n",
            "user\t0m0.000s\n",
            "sys\t0m0.001s\n"
          ]
        }
      ]
    },
    {
      "cell_type": "markdown",
      "metadata": {
        "id": "Tm_AVmt-QQH4"
      },
      "source": [
        "## Python"
      ]
    },
    {
      "cell_type": "code",
      "execution_count": null,
      "metadata": {
        "id": "gRCCcd7IQTKZ",
        "colab": {
          "base_uri": "https://localhost:8080/"
        },
        "outputId": "fde36c03-0620-475d-f8eb-00b90317fc2a"
      },
      "outputs": [
        {
          "output_type": "stream",
          "name": "stdout",
          "text": [
            "Overwriting max_pairwise_product_long_full.py\n"
          ]
        }
      ],
      "source": [
        "%%writefile max_pairwise_product_long_full.py\n",
        "def MaxPairwiseProduct(numbers):\n",
        "  max_product = 0\n",
        "  aux_product = 0\n",
        "  n = len(numbers)\n",
        "\n",
        "  for first in range (n):\n",
        "    for second in range(n):\n",
        "      if(first != second):\n",
        "        aux_product = numbers[first]*numbers[second]\n",
        "        if aux_product > max_product:\n",
        "          max_product = aux_product\n",
        "  return max_product\n",
        "\n",
        "n = int(input())\n",
        "numbers = [int(i) for i in input().split()]\n",
        "print(MaxPairwiseProduct(numbers))"
      ]
    },
    {
      "cell_type": "code",
      "execution_count": null,
      "metadata": {
        "id": "kAEAoNZEQTCw"
      },
      "outputs": [],
      "source": []
    },
    {
      "cell_type": "code",
      "execution_count": null,
      "metadata": {
        "id": "hjw7TJrDL0d-",
        "colab": {
          "base_uri": "https://localhost:8080/"
        },
        "outputId": "6822f9eb-0eef-4759-ac00-0c5ec3b70235"
      },
      "outputs": [
        {
          "output_type": "stream",
          "name": "stdout",
          "text": [
            "120989000\n",
            "\n",
            "real\t0m20.147s\n",
            "user\t0m19.952s\n",
            "sys\t0m0.014s\n"
          ]
        }
      ],
      "source": [
        "# Verify\n",
        "!time python3 max_pairwise_product_long_full.py < input13.txt"
      ]
    },
    {
      "cell_type": "markdown",
      "source": [
        "# For the follwing solutions rquired  the same tests and analysis performed for the first solution"
      ],
      "metadata": {
        "id": "fEZR-3V4ZjCv"
      }
    },
    {
      "cell_type": "markdown",
      "metadata": {
        "id": "MKQKSC-vKePK"
      },
      "source": [
        "## Solutions in C++ and Python that uses\n",
        "$$\\frac{n^2 - n}{2} = O(n^2)\\ \\ \\text{products}$$"
      ]
    },
    {
      "cell_type": "code",
      "execution_count": null,
      "metadata": {
        "id": "jkkHHoxSK65p",
        "colab": {
          "base_uri": "https://localhost:8080/"
        },
        "outputId": "f01d13b9-14e2-4bdb-fe26-344e22daa0d6"
      },
      "outputs": [
        {
          "output_type": "stream",
          "name": "stdout",
          "text": [
            "Writing max_pairwise_product.cpp\n"
          ]
        }
      ],
      "source": [
        "%%writefile max_pairwise_product.cpp\n",
        "#include <iostream>\n",
        "#include <vector>\n",
        "#include <algorithm>\n",
        "\n",
        "int MaxPairwiseProduct(const std::vector<int>& numbers) {\n",
        "    int max_product = 0;\n",
        "    int n = numbers.size();\n",
        "\n",
        "    for (int first = 0; first < n; ++first) {\n",
        "        for (int second = first + 1; second < n; ++second) {\n",
        "            max_product = std::max(max_product,\n",
        "                numbers[first] * numbers[second]);\n",
        "        }\n",
        "    }\n",
        "\n",
        "    return max_product;\n",
        "}\n",
        "\n",
        "int main() {\n",
        "    int n;\n",
        "    std::cin >> n;\n",
        "    std::vector<int> numbers(n);\n",
        "    for (int i = 0; i < n; ++i) {\n",
        "        std::cin >> numbers[i];\n",
        "    }\n",
        "\n",
        "    std::cout << MaxPairwiseProduct(numbers) << \"\\n\";\n",
        "    return 0;\n",
        "}"
      ]
    },
    {
      "cell_type": "code",
      "execution_count": null,
      "metadata": {
        "id": "sU8-Ote7K8vz",
        "colab": {
          "base_uri": "https://localhost:8080/"
        },
        "outputId": "25b9af83-29d5-4ac6-c751-1e16ff4b30cf"
      },
      "outputs": [
        {
          "output_type": "stream",
          "name": "stdout",
          "text": [
            "Writing max_pairwise_product_long.cpp\n"
          ]
        }
      ],
      "source": [
        "%%writefile max_pairwise_product_long.cpp\n",
        "#include <iostream>\n",
        "#include <vector>\n",
        "#include <algorithm>\n",
        "\n",
        "long long MaxPairwiseProduct(const std::vector<int>& numbers) {              //INSTRUCTIONS executed by line\n",
        "    long long max_product = 0LL;                                             //1\n",
        "\t  long long aux_product = 0LL;                                             //1\n",
        "    int n = numbers.size();                                                  //1\n",
        "\n",
        "    for (int first = 0; first < n; ++first) {                                //2+2n\n",
        "        for (int second = first + 1; second < n; ++second) {                 //2n + (n-1)n\n",
        "\t\t\t       aux_product =  (long long) numbers[first] * numbers[second];    //(n-1)n/2\n",
        "            if (max_product < aux_product)  {                                //(n-1)n/2\n",
        "\t\t\t\t        max_product = aux_product;                                   //[1,(n-1)n/2)  upper bound\n",
        "             }\n",
        "        }\n",
        "    }\n",
        "                                                                             // --------------\n",
        "    return max_product;                                                      // 5 + 4n + [2(n-1)n+1, 2.5 (n-1)n) upper bound\n",
        "}\n",
        "\n",
        "int main() {                                              //INSTRUCTIONS executed by line\n",
        "    int n;                                                //1\n",
        "    std::cin >> n;                                        //1\n",
        "    std::vector<int> numbers(n);                          //n\n",
        "    for (int i = 0; i < n; ++i) {                         //2 + 2n\n",
        "        std::cin >> numbers[i];                           //n\n",
        "    }\n",
        "\n",
        "    std::cout << MaxPairwiseProduct(numbers) << \"\\n\";     //1 + 1  + 5 + 4n + [2(n-1)n+1, 2.5 (n-1)n) upper bound\n",
        "    return 0;                                             // --------------\n",
        "}                                                         // 11 + 7n + [2(n-1)n+1, 2.5 (n-1)n) upper bound\n"
      ]
    },
    {
      "cell_type": "code",
      "execution_count": null,
      "metadata": {
        "id": "5QWT3fneK8nw",
        "colab": {
          "base_uri": "https://localhost:8080/"
        },
        "outputId": "3fb958b9-3beb-4bfb-d206-a71efb68548f"
      },
      "outputs": [
        {
          "output_type": "stream",
          "name": "stdout",
          "text": [
            "120989000\n",
            "\n",
            "real\t0m0.394s\n",
            "user\t0m0.387s\n",
            "sys\t0m0.004s\n"
          ]
        }
      ],
      "source": [
        "!g++ max_pairwise_product_long.cpp -o max_pairwise_product_long\n",
        "!time ./max_pairwise_product_long < input13.txt"
      ]
    },
    {
      "cell_type": "code",
      "execution_count": null,
      "metadata": {
        "id": "mxIVvm1RK8dB"
      },
      "outputs": [],
      "source": []
    },
    {
      "cell_type": "markdown",
      "metadata": {
        "id": "1Hsbd-uHOb_j"
      },
      "source": [
        "# Sort solution in C++ and Python\n",
        "\n",
        "$$ O(n \\lg n)$$\n",
        "\n",
        "**Which sorting algorithm is used in GCC?**\n",
        "https://stackoverflow.com/questions/7221257/which-sorting-algorithm-is-used-in-gcc\n",
        "\n",
        "* ...  the algorithm is called introsort, a combination between Insertionsort, Quicksort & Heapsort. ...\n",
        "\n",
        "**Introsort**\n",
        "https://en.wikipedia.org/wiki/Introsort\n",
        "\n",
        "Introsort or introspective sort is a hybrid sorting algorithm that provides both fast average performance and (asymptotically) optimal worst-case performance. It begins with quicksort, it switches to heapsort when the recursion depth exceeds a level based on (the logarithm of) the number of elements being sorted and it switches to insertion sort when the number of elements is below some threshold\n",
        "\n",
        "*   Class\tSorting algorithm\n",
        "*   Data structure\tArray\n",
        "*   Worst-case performance\t$O(n \\lg n)$\n",
        "*   Average performance\t$O(n \\lg n)$\n",
        "\n",
        "**Tinsort**\n",
        "https://en.wikipedia.org/wiki/Timsort\n",
        "\n",
        "Timsort is a hybrid, stable sorting algorithm, derived from merge sort and insertion sort, designed to perform well on many kinds of real-world data. It was implemented by Tim Peters in 2002 for use in the Python programming language.\n",
        "\n",
        "*   Class\tSorting algorithm\n",
        "*   Data structure\tArray\n",
        "*   Worst-case performance\t$O(n \\lg n)$\n",
        "*   Best-case performance $O(n)$\n",
        "*   Average performance\t$O(n \\lg n)$\n",
        "*   Worst-case space complexity $O(n)$"
      ]
    },
    {
      "cell_type": "markdown",
      "metadata": {
        "id": "WMUthAXjOb_k"
      },
      "source": []
    },
    {
      "cell_type": "code",
      "source": [
        "# %%writefile max_pairwise_product_with_sort.py\n",
        "# #Python3\n",
        "# if __name__ == \"__main__\":\n",
        "#     n = int(input())\n",
        "#     lista = list(map(int, input().split()))\n",
        "#     lista.sort()\n",
        "#     print(lista[n - 1] * lista[n - 2])\n",
        "\n",
        "\n",
        "%%writefile max_pairwise_product_sort.py\n",
        "def max_pairwise_product_sort(numbers):\n",
        "  numbers.sort(reverse=True)\n",
        "  return numbers[0] * numbers[1]\n",
        "\n",
        "n = int(input())\n",
        "numbers = [int(i) for i in input().split()]\n",
        "print(max_pairwise_product_sort(numbers))"
      ],
      "metadata": {
        "id": "jnIRWyUEDu_C",
        "colab": {
          "base_uri": "https://localhost:8080/"
        },
        "outputId": "a34e0d84-6b7e-4000-d760-b9fa546eefd6"
      },
      "execution_count": null,
      "outputs": [
        {
          "output_type": "stream",
          "name": "stdout",
          "text": [
            "Writing max_pairwise_product_sort.py\n"
          ]
        }
      ]
    },
    {
      "cell_type": "markdown",
      "metadata": {
        "id": "v8pdV9ABOb_k"
      },
      "source": [
        "Test with inputs 1 and 2\n",
        "\n"
      ]
    },
    {
      "cell_type": "code",
      "execution_count": null,
      "metadata": {
        "id": "kdXAyLG4Ob_k",
        "colab": {
          "base_uri": "https://localhost:8080/"
        },
        "outputId": "f079c4cc-a12d-4107-8ae6-0b76e3970f3d"
      },
      "outputs": [
        {
          "output_type": "stream",
          "name": "stdout",
          "text": [
            "Overwriting run_all_test.sh\n"
          ]
        }
      ],
      "source": [
        "# !./max_pairwise_product_with_sort_C < input1.txt\n",
        "# !./max_pairwise_product_with_sort_C < input2.txt\n",
        "\n",
        "\n",
        "%%writefile run_all_test.sh\n",
        "#comparing all the executions to check the differences between the outputs\n",
        "for i in {1..2}\n",
        "do\n",
        "    python3 max_pairwise_product_sort.py < input$i.txt > pythonOutput$i.txt\n",
        "    grep -xvFf pythonOutput$i.txt output$i.txt\n",
        "done"
      ]
    },
    {
      "cell_type": "code",
      "source": [
        "!chmod u+x run_all_test.sh\n",
        "!./run_all_test.sh"
      ],
      "metadata": {
        "colab": {
          "base_uri": "https://localhost:8080/"
        },
        "id": "2Fapci5M2KNV",
        "outputId": "009bfaa8-0331-4c0c-e5c8-7f7ba1f25f28"
      },
      "execution_count": null,
      "outputs": [
        {
          "output_type": "stream",
          "name": "stdout",
          "text": [
            "Traceback (most recent call last):\n",
            "  File \"/content/max_pairwise_product_sort.py\", line 5, in <module>\n",
            "    n = int(input())\n",
            "ValueError: invalid literal for int() with base 10: '4 8'\n",
            "12\n",
            "./run_all_test.sh: line 4: input2.txt: No such file or directory\n",
            "grep: pythonOutput2.txt: No such file or directory\n"
          ]
        }
      ]
    },
    {
      "cell_type": "markdown",
      "metadata": {
        "id": "Sw-5X1q1Ob_k"
      },
      "source": [
        "Test and time it with input 3"
      ]
    },
    {
      "cell_type": "code",
      "execution_count": null,
      "metadata": {
        "id": "ryHJ30WIOb_k",
        "colab": {
          "base_uri": "https://localhost:8080/"
        },
        "outputId": "0763dc4d-e69e-4a4d-f789-ff278e21cdfa"
      },
      "outputs": [
        {
          "output_type": "stream",
          "name": "stdout",
          "text": [
            "/bin/bash: line 1: input3.txt: No such file or directory\n",
            "\n",
            "real\t0m0.001s\n",
            "user\t0m0.000s\n",
            "sys\t0m0.000s\n",
            "grep: pythonOutput3.txt: No such file or directory\n"
          ]
        }
      ],
      "source": [
        "!time python3 max_pairwise_product_sort.py < input3.txt > pythonOutput3.txt\n",
        "!grep -xvFf pythonOutput3.txt output3.txt"
      ]
    },
    {
      "cell_type": "markdown",
      "metadata": {
        "id": "oJGdPl1HOb_k"
      },
      "source": [
        "20 stress tests"
      ]
    },
    {
      "cell_type": "code",
      "execution_count": null,
      "metadata": {
        "id": "pXHtO1dEOb_k",
        "colab": {
          "base_uri": "https://localhost:8080/"
        },
        "outputId": "25520be5-6f29-4c05-b7aa-6c4aa4d73720"
      },
      "outputs": [
        {
          "output_type": "stream",
          "name": "stdout",
          "text": [
            "-------------------------------------------------\n",
            "Testing with the list: [876975275, 758767669, 13467583, 397330666, 184430830, 784256339]\n",
            "The efficient solution gives the result 769085632961325625\n",
            "-------------------------------------------------\n",
            "-------------------------------------------------\n",
            "Testing with the list: [237939118, 495962739, 870827684]\n",
            "The efficient solution gives the result 431898083353666476\n",
            "-------------------------------------------------\n",
            "-------------------------------------------------\n",
            "Testing with the list: [722741670, 25154243, 742090232, 290603034, 783650683, 522538210, 655015284, 653201623, 93956828]\n",
            "The efficient solution gives the result 614108392966366489\n",
            "-------------------------------------------------\n",
            "-------------------------------------------------\n",
            "Testing with the list: [678459869, 583390303, 6013337, 377988529, 350128556, 937887040, 216476922, 373560993, 50969420]\n",
            "The efficient solution gives the result 879632099799961600\n",
            "-------------------------------------------------\n",
            "-------------------------------------------------\n",
            "Testing with the list: [806062799, 463598658, 141626025, 13169446, 696752358, 227308806]\n",
            "The efficient solution gives the result 649737235931714401\n",
            "-------------------------------------------------\n",
            "-------------------------------------------------\n",
            "Testing with the list: [690887840, 436641726, 765541022, 814123706, 598369486, 304606453, 152068229, 895054995]\n",
            "The efficient solution gives the result 728685489603211470\n",
            "-------------------------------------------------\n",
            "-------------------------------------------------\n",
            "Testing with the list: [125666522, 944830884, 29642262, 834326693, 460316413]\n",
            "The efficient solution gives the result 892705399360221456\n",
            "-------------------------------------------------\n",
            "-------------------------------------------------\n",
            "Testing with the list: [785987850, 470653913, 696787208, 564318723, 314967424, 419944509, 653664086]\n",
            "The efficient solution gives the result 617776900347622500\n",
            "-------------------------------------------------\n",
            "-------------------------------------------------\n",
            "Testing with the list: [315722666, 212474272, 174423750, 12369961, 540803706, 455584017, 429668165, 889766045, 643338591, 533618278, 948061957, 766844062]\n",
            "The efficient solution gives the result 898821474310669849\n",
            "-------------------------------------------------\n",
            "-------------------------------------------------\n",
            "Testing with the list: [559668689, 948203913, 811168217, 868286972, 233114921, 33876712, 862217741, 183813518, 559765111, 141895665, 583790624]\n",
            "The efficient solution gives the result 899090660628511569\n",
            "-------------------------------------------------\n",
            "-------------------------------------------------\n",
            "Testing with the list: [508266718, 918640884, 78687419, 140610938, 758864031, 393965738, 64625705, 766067188]\n",
            "The efficient solution gives the result 843901073756301456\n",
            "-------------------------------------------------\n",
            "-------------------------------------------------\n",
            "Testing with the list: [88520147, 432327777, 539445973, 442190833, 510663654, 933525017, 57576843, 806571564, 960384612, 897054071, 148658191]\n",
            "The efficient solution gives the result 922338602966390544\n",
            "-------------------------------------------------\n",
            "-------------------------------------------------\n",
            "Testing with the list: [851419471, 681278473, 536074602, 464116828, 741509152, 640087035, 494665546, 838992458, 214401674, 524537966]\n",
            "The efficient solution gives the result 724915115597919841\n",
            "-------------------------------------------------\n",
            "-------------------------------------------------\n",
            "Testing with the list: [922661532, 361744352, 356879316, 143894214, 898385050, 1100512, 181342753, 873545693]\n",
            "The efficient solution gives the result 851304302632587024\n",
            "-------------------------------------------------\n",
            "-------------------------------------------------\n",
            "Testing with the list: [899811775, 301291997, 979729498, 878320045, 336540883]\n",
            "The efficient solution gives the result 959869889251332004\n",
            "-------------------------------------------------\n",
            "-------------------------------------------------\n",
            "Testing with the list: [24569413, 114724582, 366353528, 933730879, 995787967, 818894359, 423120780, 547952267, 6978538, 109525167]\n",
            "The efficient solution gives the result 991593675221993089\n",
            "-------------------------------------------------\n",
            "-------------------------------------------------\n",
            "Testing with the list: [166363212, 829501732, 858084935, 120637127, 385019549, 569231396, 654264429, 348386915, 104894465, 864923570, 248174361, 819858864]\n",
            "The efficient solution gives the result 748092781941544900\n",
            "-------------------------------------------------\n",
            "-------------------------------------------------\n",
            "Testing with the list: [703131903, 45648993, 578053663, 947581377, 434105785, 608315929, 363107882, 982590585, 538095321, 302886535, 972088143, 311825759]\n",
            "The efficient solution gives the result 965484257730642225\n",
            "-------------------------------------------------\n",
            "-------------------------------------------------\n",
            "Testing with the list: [402560956, 783760170, 296011121, 89520092, 801572564, 385796389, 879352128, 161170518]\n",
            "The efficient solution gives the result 773260165018128384\n",
            "-------------------------------------------------\n",
            "-------------------------------------------------\n",
            "Testing with the list: [441106735, 528526397, 202394793, 861819189]\n",
            "The efficient solution gives the result 455494190827632033\n",
            "-------------------------------------------------\n"
          ]
        }
      ],
      "source": [
        "import random\n",
        "\n",
        "def max_pairwise_efficient(numbers):\n",
        "    n = len(numbers)\n",
        "    biggest_1 = float('-inf')\n",
        "    biggest_2 = float('-inf')\n",
        "\n",
        "    for i in range(n):\n",
        "        new = numbers[i]\n",
        "        temp = biggest_1\n",
        "        if new > biggest_1:\n",
        "          biggest_2 = biggest_1\n",
        "          biggest_1 = new\n",
        "        if temp > biggest_2: biggest_2 = temp\n",
        "\n",
        "    return biggest_1 * biggest_2\n",
        "\n",
        "# 20 stress tests\n",
        "for _ in range(20):\n",
        "    n = random.randint(2, 12)  # Use a large n\n",
        "    numbers = [random.randint(1, 10**9) for _ in range(n)]  # Generate n random numbers between 1 and 10^9\n",
        "\n",
        "    print(\"-------------------------------------------------\")\n",
        "    print(f\"Testing with the list: {numbers}\")\n",
        "    print(f\"The efficient solution gives the result {max_pairwise_efficient(numbers)}\")\n",
        "    # Add any additional test or comparison here if needed\n",
        "    print(\"-------------------------------------------------\")"
      ]
    },
    {
      "cell_type": "markdown",
      "metadata": {
        "id": "2beTmWFPOb_k"
      },
      "source": [
        "Count executed instructions in code and verify with inputs 1,2 and 3\n"
      ]
    },
    {
      "cell_type": "code",
      "execution_count": null,
      "metadata": {
        "id": "iuByv4x1Ob_k",
        "colab": {
          "base_uri": "https://localhost:8080/"
        },
        "outputId": "c08a04e3-615d-4eb6-da8a-f74d7e6aaba3"
      },
      "outputs": [
        {
          "output_type": "stream",
          "name": "stdout",
          "text": [
            "Overwriting max_pairwise_efficient.py\n"
          ]
        }
      ],
      "source": [
        "\n",
        "%%writefile max_pairwise_efficient.py\n",
        "import random\n",
        "execints = 0\n",
        "\n",
        "def max_pairwise_efficient(numbers):\n",
        "    global execints\n",
        "    n = len(numbers)  # Tamaño de la lista\n",
        "    biggest_1 = float('-inf')  # Inicializa el valor más grande en -infinito\n",
        "    biggest_2 = float('-inf')  # Inicializa el segundo valor más grande en -infinito\n",
        "    execints += 3  # Se cuenta como 3 instrucciones iniciales\n",
        "\n",
        "    for i in range(n):\n",
        "        new_number = numbers[i]  # Toma el siguiente número de la lista\n",
        "        temp = biggest_1  # Almacena temporalmente el valor más grande encontrado\n",
        "        execints += 2  # 2 instrucciones por la asignación y la comparación\n",
        "\n",
        "        if new_number > biggest_1:  # Si el nuevo número es mayor que el más grande\n",
        "            biggest_2 = biggest_1  # El anterior mayor pasa a ser el segundo más grande\n",
        "            biggest_1 = new_number  # El nuevo número se convierte en el más grande\n",
        "            execints += 2  # 2 instrucciones por el bloque if\n",
        "\n",
        "        if temp > biggest_2:  # Si el valor temporal (anterior mayor) es mayor que el segundo mayor\n",
        "            biggest_2 = temp  # Se actualiza el segundo mayor\n",
        "            execints += 2  # 2 instrucciones por la comparación y asignación\n",
        "\n",
        "        execints += 2  # Por las dos comparaciones en cada iteración\n",
        "\n",
        "    execints += 1  # Incrementa por la línea de retorno final\n",
        "    return biggest_1 * biggest_2  # Devuelve el producto máximo de los dos números más grandes\n",
        "\n",
        "\n",
        "\n",
        "\n",
        "if __name__ == '__main__':\n",
        "    n = int(input())  # Lee el tamaño de la lista\n",
        "    input_line = input()  # Lee la línea de números\n",
        "    numbers = list(map(int, input_line.split()))  # Convierte la línea de entrada en una lista de enteros\n",
        "    max_pairwise_efficient(numbers)  # Llama a la función para calcular el producto máximo\n",
        "\n",
        "    execints += 1  # Incrementa por el final de la ejecución de la función\n",
        "\n",
        "    print(\"El numero de instrucciones es:\", execints)  # Imprime el número de instrucciones ejecutadas\n",
        "\n"
      ]
    },
    {
      "cell_type": "code",
      "source": [
        "%%writefile run_all_test.sh\n",
        "for i in {1..3}\n",
        "do\n",
        "    echo \"Input #$i\"\n",
        "    python3 max_pairwise_efficient.py < input$i.txt\n",
        "done"
      ],
      "metadata": {
        "colab": {
          "base_uri": "https://localhost:8080/"
        },
        "id": "7nOoM04ZyRrM",
        "outputId": "283d3d3f-cefb-48f4-b56c-25e456c05ebe"
      },
      "execution_count": null,
      "outputs": [
        {
          "output_type": "stream",
          "name": "stdout",
          "text": [
            "Overwriting run_all_test.sh\n"
          ]
        }
      ]
    },
    {
      "cell_type": "code",
      "source": [
        "!chmod u+x run_all_test.sh\n",
        "!./run_all_test.sh"
      ],
      "metadata": {
        "colab": {
          "base_uri": "https://localhost:8080/"
        },
        "id": "DdIah_kJyZWj",
        "outputId": "daab3438-88de-482f-a6a9-ab94caf39630"
      },
      "execution_count": null,
      "outputs": [
        {
          "output_type": "stream",
          "name": "stdout",
          "text": [
            "Input #1\n",
            "Traceback (most recent call last):\n",
            "  File \"/content/max_pairwise_efficient.py\", line 28, in <module>\n",
            "    n = int(input())\n",
            "ValueError: invalid literal for int() with base 10: '4 8'\n",
            "Input #2\n",
            "./run_all_test.sh: line 4: input2.txt: No such file or directory\n",
            "Input #3\n",
            "./run_all_test.sh: line 4: input3.txt: No such file or directory\n"
          ]
        }
      ]
    },
    {
      "cell_type": "markdown",
      "metadata": {
        "id": "x2CXhkwTOb_l"
      },
      "source": [
        "Calculate estimated time by instruction and number of instructions by second"
      ]
    },
    {
      "cell_type": "code",
      "execution_count": null,
      "metadata": {
        "id": "nTjxyTMtOb_l",
        "colab": {
          "base_uri": "https://localhost:8080/"
        },
        "outputId": "95525f85-4e93-443a-84c6-7ff65402ce6b"
      },
      "outputs": [
        {
          "output_type": "stream",
          "name": "stdout",
          "text": [
            "/bin/bash: line 1: input11.txt: No such file or directory\n",
            "\n",
            "real\t0m0.001s\n",
            "user\t0m0.001s\n",
            "sys\t0m0.000s\n",
            "/bin/bash: line 1: input11.txt: No such file or directory\n",
            "7272757.575757575 tiempo por instrucción\n"
          ]
        }
      ],
      "source": [
        "!time python3 max_pairwise_efficient.py < input11.txt > pythonOutputSort11.txt\n",
        "!python3 max_pairwise_efficient.py < input11.txt\n",
        "num_inst_per_seg = 1200005/0.165\n",
        "print(f\"{num_inst_per_seg} tiempo por instrucción\")"
      ]
    },
    {
      "cell_type": "markdown",
      "source": [
        "### Estimate and verify the maximun n that can be solved in 1 second"
      ],
      "metadata": {
        "id": "CcgDYDQuaFeH"
      }
    },
    {
      "cell_type": "code",
      "source": [
        "import time\n",
        "import random\n",
        "n = 0 #numero de instrucciones\n",
        "\n",
        "def instruction(numbers):\n",
        "    m = len(numbers)\n",
        "    biggest_1 = float('-inf')\n",
        "    biggest_2 = float('-inf')\n",
        "    global n\n",
        "    n += 3\n",
        "\n",
        "    for i in range(m):\n",
        "        new = numbers[i]\n",
        "        temp = biggest_1\n",
        "        n += 2\n",
        "        if new > biggest_1:\n",
        "            biggest_2 = biggest_1\n",
        "            biggest_1 = new\n",
        "            n += 2\n",
        "        if temp > biggest_2:\n",
        "            biggest_2 = temp\n",
        "            n += 1\n",
        "        n += 2\n",
        "    return n\n",
        "# Ejecutar la función y medir el tiempo de ejecución\n",
        "start_time = time.time()\n",
        "numbers = [random.randint(1, 100) for _ in range(10)]\n",
        "instruction = instruction(numbers) # Suponiendo que 'numbers' es una lista válida\n",
        "end_time = time.time()\n",
        "\n",
        "# Calcular el número de instrucciones por segundo\n",
        "elapsed_time = end_time - start_time\n",
        "instructions_per_second = instruction / elapsed_time\n",
        "#print(start_time)\n",
        "#print(end_time)\n",
        "print(f\"Número de instrucciones por segundo: {instructions_per_second}\")"
      ],
      "metadata": {
        "id": "fLztHReKaGFq",
        "colab": {
          "base_uri": "https://localhost:8080/"
        },
        "outputId": "ddc9297c-35f4-40e7-e206-16731cd3f3b3"
      },
      "execution_count": null,
      "outputs": [
        {
          "output_type": "stream",
          "name": "stdout",
          "text": [
            "Número de instrucciones por segundo: 236043.08225108226\n"
          ]
        }
      ]
    },
    {
      "cell_type": "markdown",
      "metadata": {
        "id": "VMKC5duEOQfk"
      },
      "source": [
        "## Efficient solution with largest and second-largest in an list, array or vector in C++ and Python\n",
        "\n",
        " $$T(n) < 10 n  = O(n)$$\n",
        "\n",
        "\n",
        "\n"
      ]
    },
    {
      "cell_type": "markdown",
      "metadata": {
        "id": "nLcKBwbU0QsE"
      },
      "source": [
        "Add in each line a coment with the number of intstrcution that are executed in that line"
      ]
    },
    {
      "cell_type": "code",
      "execution_count": null,
      "metadata": {
        "id": "knls5Fh3NSt_",
        "colab": {
          "base_uri": "https://localhost:8080/"
        },
        "outputId": "2624bc20-768f-4c10-8123-a13ea37e4242"
      },
      "outputs": [
        {
          "output_type": "stream",
          "name": "stdout",
          "text": [
            "4\n",
            "8\n",
            "0\n"
          ]
        }
      ],
      "source": [
        "def efficientSolution(numbers):  # 1 instrucción para definir la función\n",
        "    largest = 0  # 1 instrucción para asignar el valor 0 a largest\n",
        "    secondLargest = 0  # 1 instrucción para asignar el valor 0 a secondLargest\n",
        "    for i in numbers:  # 1 instrucción para iniciar el bucle\n",
        "        if i > largest:  # 1 instrucción para la comparación i > largest\n",
        "            secondLargest = largest  # 1 instrucción para asignar largest a secondLargest\n",
        "            largest = i  # 1 instrucción para asignar i a largest\n",
        "        elif i > secondLargest:  # 1 instrucción para la comparación i > secondLargest\n",
        "            secondLargest = i  # 1 instrucción para asignar i a secondLargest\n",
        "\n",
        "    result = secondLargest * largest  # 1 instrucción para la multiplicación y asignación a result\n",
        "    return result  # 1 instrucción para retornar el resultado\n",
        "\n",
        "n = int(input())  # 1 instrucción para leer la entrada y convertirla a entero\n",
        "numbers = [int(i) for i in input().split()]  # 2 instrucciones: leer entrada y convertir a lista de enteros\n",
        "print(efficientSolution(numbers))  # 1 instrucción para llamar a la función y mostrar el resultado\n"
      ]
    },
    {
      "cell_type": "markdown",
      "metadata": {
        "id": "-JCijbWxNSii"
      },
      "source": [
        "Test with inputs 1 and 2\n",
        "\n"
      ]
    },
    {
      "cell_type": "code",
      "execution_count": null,
      "metadata": {
        "id": "TrTGAfqlNVXT",
        "colab": {
          "base_uri": "https://localhost:8080/"
        },
        "outputId": "1f72a1ed-c623-414b-cd5c-732a3ee1376c"
      },
      "outputs": [
        {
          "output_type": "stream",
          "name": "stdout",
          "text": [
            "python3: can't open file '/content/efficientSolution.py': [Errno 2] No such file or directory\n",
            "/bin/bash: line 1: input2.txt: No such file or directory\n"
          ]
        }
      ],
      "source": [
        "!python3 efficientSolution.py < input1.txt\n",
        "!python3 efficientSolution.py < input2.txt"
      ]
    },
    {
      "cell_type": "markdown",
      "metadata": {
        "id": "PRX51wADNR8b"
      },
      "source": [
        "Test and time it with input 3"
      ]
    },
    {
      "cell_type": "code",
      "execution_count": null,
      "metadata": {
        "id": "v4z7-Is_NRt7",
        "colab": {
          "base_uri": "https://localhost:8080/"
        },
        "outputId": "283a9e7e-3ff2-4bbe-d14b-c7ab373c1eb1"
      },
      "outputs": [
        {
          "output_type": "stream",
          "name": "stdout",
          "text": [
            "/bin/bash: line 1: input3.txt: No such file or directory\n",
            "\n",
            "real\t0m0.001s\n",
            "user\t0m0.000s\n",
            "sys\t0m0.001s\n"
          ]
        }
      ],
      "source": [
        "!time python3 efficientSolution.py < input3.txt"
      ]
    },
    {
      "cell_type": "markdown",
      "metadata": {
        "id": "rpdfs0_TNZJf"
      },
      "source": [
        "20 stress tests"
      ]
    },
    {
      "cell_type": "code",
      "execution_count": null,
      "metadata": {
        "id": "Lu4tYcKzNcTT"
      },
      "outputs": [],
      "source": [
        "import random\n",
        "def efficientSolution(numbers):\n",
        "    largest = 0\n",
        "    secondLargest = 0\n",
        "    for i in numbers:\n",
        "        if i > largest:\n",
        "            secondLargest = largest\n",
        "            largest = i\n",
        "        elif i > secondLargest:\n",
        "            secondLargest = i\n",
        "\n",
        "    return secondLargest * largest\n",
        "\n",
        "def max_pairwise_product(numbers):\n",
        "    max_product = 0\n",
        "    n = len(numbers)\n",
        "\n",
        "    for first in range(n):\n",
        "        for second in range(n):\n",
        "            if first != second:\n",
        "                aux_product = numbers[first] * numbers[second]\n",
        "                if aux_product > max_product:\n",
        "                    max_product = aux_product\n",
        "\n",
        "    return max_product\n",
        "\n",
        "for _ in range(20):  # Run the test 10 times\n",
        "    n = random.randint(1, 12)  # Use a large n\n",
        "    numbers = [random.randint(1, 10**9) for _ in range(n)]  # Generate n random numbers between 1 and 10^9\n",
        "\n",
        "    print(\"-------------------------------------------------\")\n",
        "    print(f\"Testing with the list: {numbers}\")\n",
        "    print(f\"The efficient solution gives the result {efficientSolution(numbers)}\")\n",
        "    print(f\"The comparison solution gives the result {max_pairwise_product(numbers)}\")\n",
        "    if efficientSolution(numbers) == max_pairwise_product(numbers):\n",
        "        print(\"The solution is correct OK\")\n",
        "    else:\n",
        "        print(\"ERROR\")\n",
        "    print(\"-------------------------------------------------\")\n",
        "\n",
        "\n"
      ]
    },
    {
      "cell_type": "markdown",
      "metadata": {
        "id": "L8U4151JNbxk"
      },
      "source": [
        "Count executed instructions in code and verify with inputs 1,2 and 3\n"
      ]
    },
    {
      "cell_type": "code",
      "execution_count": null,
      "metadata": {
        "id": "dh85RM8vNhFz"
      },
      "outputs": [],
      "source": [
        "%%writefile efficientSolutionexcec.py\n",
        "exceintspy= 0\n",
        "def efficientSolution(numbers):\n",
        "    global exceintspy\n",
        "    largest = 0\n",
        "    exceintspy+=1\n",
        "    secondLargest = 0\n",
        "    exceintspy+=1\n",
        "    exceintspy+=1\n",
        "    for i in numbers:\n",
        "        exceintspy+=2\n",
        "        exceintspy+=1\n",
        "        if i > largest:\n",
        "            secondLargest = largest\n",
        "            exceintspy+=1\n",
        "            largest = i\n",
        "            exceintspy+=1\n",
        "        elif i > secondLargest:\n",
        "            secondLargest = i\n",
        "            exceintspy+=1\n",
        "    exceintspy+=1\n",
        "    result= secondLargest * largest\n",
        "    exceintspy+=2 # multiplciation instruction\n",
        "    return result\n",
        "\n",
        "n = int(input())\n",
        "exceintspy+=1\n",
        "numbers = [int(i) for i in input().split()]\n",
        "exceintspy+=n\n",
        "print(efficientSolution(numbers))\n",
        "exceintspy+=1\n",
        "print(f\"Execution Times: {exceintspy}\")"
      ]
    },
    {
      "cell_type": "code",
      "source": [
        "%%writefile run_all_test.sh\n",
        "for i in {1..3}\n",
        "do\n",
        "    echo \"Input #$i\"\n",
        "    python3 efficientSolutionexcec.py < input$i.txt\n",
        "done"
      ],
      "metadata": {
        "id": "lILTQbtN6kr7"
      },
      "execution_count": null,
      "outputs": []
    },
    {
      "cell_type": "code",
      "source": [
        "!chmod u+x run_all_test.sh\n",
        "!./run_all_test.sh"
      ],
      "metadata": {
        "id": "VLjAdYM46l5a"
      },
      "execution_count": null,
      "outputs": []
    },
    {
      "cell_type": "markdown",
      "metadata": {
        "id": "K6ybgCmpNygr"
      },
      "source": [
        "Calculate estimated time by instruction and number of instructions by second"
      ]
    },
    {
      "cell_type": "code",
      "execution_count": null,
      "metadata": {
        "id": "kwe3G1O3Nz1w"
      },
      "outputs": [],
      "source": [
        "!time python3 efficientSolutionexcec.py< input11.txt > ptest.txt\n",
        "!grep -xvFf output11.txt ptest.txt"
      ]
    },
    {
      "cell_type": "markdown",
      "source": [
        "### Estimate and verify the maximun n that can be solved in 1 second"
      ],
      "metadata": {
        "id": "v8GY6n_ZaJ4P"
      }
    },
    {
      "cell_type": "code",
      "source": [
        "%%writefile efficientSolution.py\n",
        "def efficientSolution(numbers):\n",
        "    largest = 0                     #1\n",
        "    secondLargest = 0               #1\n",
        "    for i in numbers:               #2+2n\n",
        "        if i > largest:\n",
        "            secondLargest = largest\n",
        "            largest = i\n",
        "        elif i > secondLargest:\n",
        "            secondLargest = i\n",
        "    #WORST CASE 3n\n",
        "    result= secondLargest * largest    #3\n",
        "    return result\n",
        "\n",
        "n = int(input())                            #1\n",
        "numbers = [int(i) for i in input().split()] #n\n",
        "print(efficientSolution(numbers))           #1"
      ],
      "metadata": {
        "id": "z3xjzg1YaKk6"
      },
      "execution_count": null,
      "outputs": []
    },
    {
      "cell_type": "markdown",
      "metadata": {
        "id": "sUpIWcykOGpT"
      },
      "source": [
        "## Super efficient solution\n",
        "\n",
        "Whitout storing the list in memory, only stpring the largest and second largest and whitout calling a function, add in each line a coment with the number of instructions that are executed in that line\n",
        "\n",
        "in C++ and Python\n",
        "\n",
        "\n",
        " $$T(n) < 13 n  = O(n)$$\n"
      ]
    },
    {
      "cell_type": "code",
      "execution_count": null,
      "metadata": {
        "id": "hBLt_xBQLy8E"
      },
      "outputs": [],
      "source": [
        "%%writefile max_pairwise_efficient.cpp\n",
        "\n",
        "#include <iostream>\n",
        "#include <limits>\n",
        "\n",
        "long long max_pairwise_efficient() {\n",
        "    int n;            //1\n",
        "    std::cin >> n;    //1\n",
        "\n",
        "    long long biggest_1 = std::numeric_limits<long long>::min(); //1\n",
        "    long long biggest_2 = std::numeric_limits<long long>::min(); //1\n",
        "\n",
        "    for (int i = 0; i < n; ++i) {  //2 + 2n\n",
        "        int new_number;\n",
        "        std::cin >> new_number;\n",
        "        if (new_number > biggest_1) {\n",
        "            biggest_2 = biggest_1;\n",
        "            biggest_1 = new_number;\n",
        "        } else if (new_number > biggest_2) {\n",
        "            biggest_2 = new_number;\n",
        "        }\n",
        "    }\n",
        "\n",
        "    return biggest_1 * biggest_2; //1\n",
        "}\n",
        "\n",
        "int main() {\n",
        "    std::cout << max_pairwise_efficient() << std::endl; //1\n",
        "    return 0; //1\n",
        "}\n"
      ]
    },
    {
      "cell_type": "code",
      "source": [
        "!g++ max_pairwise_efficient.cpp -o max_pairwise_efficient -std=c++11\n",
        "!./max_pairwise_efficient"
      ],
      "metadata": {
        "id": "ExfHNq8b66sV"
      },
      "execution_count": null,
      "outputs": []
    },
    {
      "cell_type": "markdown",
      "metadata": {
        "id": "683gc3roHqzb"
      },
      "source": [
        "Test with inputs 1 and 2\n",
        "\n",
        "\n"
      ]
    },
    {
      "cell_type": "code",
      "execution_count": null,
      "metadata": {
        "id": "b7d4LA8OIc2_"
      },
      "outputs": [],
      "source": [
        "!g++ max_pairwise_efficient.cpp -o max_pairwise_efficient -std=c++11\n",
        "!./max_pairwise_efficient < input1.txt\n",
        "!./max_pairwise_efficient < input2.txt"
      ]
    },
    {
      "cell_type": "markdown",
      "metadata": {
        "id": "36Ugn1odIeJz"
      },
      "source": [
        "Test and time it with input 3"
      ]
    },
    {
      "cell_type": "code",
      "execution_count": null,
      "metadata": {
        "id": "jDyMbCnxHqSN"
      },
      "outputs": [],
      "source": [
        "!g++ max_pairwise_efficient.cpp -o max_pairwise_efficient -std=c++11\n",
        "!./max_pairwise_efficient < input3.txt"
      ]
    },
    {
      "cell_type": "markdown",
      "metadata": {
        "id": "bhqiKQG6fjKM"
      },
      "source": [
        "20 stress tests"
      ]
    },
    {
      "cell_type": "code",
      "execution_count": null,
      "metadata": {
        "id": "2KsiXKhALzwm"
      },
      "outputs": [],
      "source": [
        "%%writefile stressTestmax_pairwise_efficient.cpp\n",
        "#include <iostream>\n",
        "#include <vector>\n",
        "#include <algorithm>\n",
        "#include <random>\n",
        "long long max_pairwise_efficient(const std::vector<int>& numbers) {\n",
        "    int n = numbers.size(); //1\n",
        "\n",
        "    long long biggest_1 = std::numeric_limits<long long>::min(); //1\n",
        "    long long biggest_2 = std::numeric_limits<long long>::min(); //1\n",
        "\n",
        "    for (int i = 0; i < n; ++i) { //2+2n\n",
        "        int new_number = numbers[i];\n",
        "        if (new_number > biggest_1) {\n",
        "            biggest_2 = biggest_1;\n",
        "            biggest_1 = new_number;\n",
        "        } else if (new_number > biggest_2) { //2+2n\n",
        "            biggest_2 = new_number;\n",
        "        }\n",
        "    }\n",
        "\n",
        "    return biggest_1 * biggest_2;//1\n",
        "}\n",
        "\n",
        "int main() {\n",
        "    // 20 stress tests\n",
        "    for (int test = 1; test <= 20; ++test) { //2+2n\n",
        "        int n = rand() % 11 + 2;  // Use a large n\n",
        "        std::vector<int> numbers(n);\n",
        "\n",
        "        // Generate n random numbers between 1 and 10^9\n",
        "        for (int i = 0; i < n; ++i) {        //2+2n\n",
        "            numbers[i] = rand() % 1000000000 + 1;\n",
        "        }\n",
        "\n",
        "        std::cout << \"-------------------------------------------------\" << std::endl; //1\n",
        "        std::cout << \"Testing with the list: \"; //1\n",
        "        for (int i = 0; i < n; ++i) {           //1\n",
        "            std::cout << numbers[i] << \" \";     //1\n",
        "        }\n",
        "        std::cout << std::endl;//1\n",
        "\n",
        "        std::cout << \"The efficient solution gives the result: \" << max_pairwise_efficient(numbers) << std::endl; //1\n",
        "\n",
        "        // Add any additional test or comparison here if needed\n",
        "\n",
        "        std::cout << \"-------------------------------------------------\" << std::endl; //1\n",
        "    }\n",
        "\n",
        "    return 0;\n",
        "}"
      ]
    },
    {
      "cell_type": "code",
      "source": [
        "!g++ stressTestmax_pairwise_efficient.cpp -o stressTestmax_pairwise_efficient -std=c++11\n",
        "!./stressTestmax_pairwise_efficient"
      ],
      "metadata": {
        "id": "BDADR-007DYr"
      },
      "execution_count": null,
      "outputs": []
    },
    {
      "cell_type": "markdown",
      "metadata": {
        "id": "fEXj8GHJH5p1"
      },
      "source": [
        "Count executed instructions in code and verify with inputs 1,2 and 3"
      ]
    },
    {
      "cell_type": "code",
      "execution_count": null,
      "metadata": {
        "id": "LF1DHjKXIAsF"
      },
      "outputs": [],
      "source": [
        "%%writefile max_pairwise_efficient2.cpp\n",
        "#include <iostream>\n",
        "#include <vector>\n",
        "#include <limits>\n",
        "\n",
        "int execints = 0;\n",
        "\n",
        "long long max_pairwise_efficient(const std::vector<int>& numbers) {\n",
        "    int n = numbers.size(); //1\n",
        "    long long biggest_1 = std::numeric_limits<long long>::min(); //1\n",
        "    long long biggest_2 = std::numeric_limits<long long>::min(); //1\n",
        "    execints += 3;\n",
        "\n",
        "    for (int i = 0; i < n; ++i) { //2+2n\n",
        "        int new_number = numbers[i];\n",
        "        long long temp = biggest_1;\n",
        "        if (new_number > biggest_1) {\n",
        "            execints += 2;  // Contar la comparación y la actualización\n",
        "            biggest_2 = biggest_1;\n",
        "            biggest_1 = new_number;\n",
        "        }\n",
        "        if (temp > biggest_2) {\n",
        "            execints += 2;  // Contar la comparación y la actualización\n",
        "            biggest_2 = temp;\n",
        "        }\n",
        "        execints += 2;  // Contar las dos comparaciones\n",
        "    }\n",
        "    execints += 2;  // Contar el aumento final y el retorno\n",
        "\n",
        "    return execints;\n",
        "\n",
        "}\n",
        "\n",
        "int main() {\n",
        "    int n; //1\n",
        "    std::cin >> n; //1\n",
        "    std::vector<int> numbers(n); //1\n",
        "    for (int i = 0; i < n; ++i) { //2+2n\n",
        "        std::cin >> numbers[i];\n",
        "    }\n",
        "    long long result = max_pairwise_efficient(numbers); //1\n",
        "    std::cout << \"El numero de instrucciones es: \" << execints << \"\\n\"; //1\n",
        "    return 0;\n",
        "}"
      ]
    },
    {
      "cell_type": "code",
      "source": [
        "%%writefile run_all_test.sh\n",
        "#!/bin/bash\n",
        "g++ max_pairwise_efficient2.cpp -o max_pairwise_efficient2\n",
        "for i in {1..3}\n",
        "do\n",
        "    echo \"Input #$i\"\n",
        "    ./max_pairwise_efficient2< input$i.txt\n",
        "done"
      ],
      "metadata": {
        "id": "z6OrCM7M7KZw"
      },
      "execution_count": null,
      "outputs": []
    },
    {
      "cell_type": "code",
      "source": [
        "!chmod u+x run_all_test.sh\n",
        "!./run_all_test.sh\n"
      ],
      "metadata": {
        "id": "TjXVTkAN7Lot"
      },
      "execution_count": null,
      "outputs": []
    },
    {
      "cell_type": "markdown",
      "metadata": {
        "id": "yae7sSm2IG9U"
      },
      "source": [
        "Calculate estimated time by instruction and number of instructions by second"
      ]
    },
    {
      "cell_type": "code",
      "execution_count": null,
      "metadata": {
        "id": "suouY7BYL2dz"
      },
      "outputs": [],
      "source": [
        "time_per_instruction = 0.41/1600007\n",
        "time_per_instruction"
      ]
    },
    {
      "cell_type": "markdown",
      "metadata": {
        "id": "sy33CNNfPxcE"
      },
      "source": [
        "### Super efficient solution in Python\n",
        "\n",
        "Whitout storing the list in memory and whitout calling a function, add in each line a coment with the number of intstrcution that are executed in that line"
      ]
    },
    {
      "cell_type": "code",
      "execution_count": null,
      "metadata": {
        "id": "_mOjJwKrPxcJ"
      },
      "outputs": [],
      "source": [
        "%%writefile max_efficient.py\n",
        "\n",
        "def max_pairwise_efficient():\n",
        "    n = int(input())\n",
        "    values = input().split()\n",
        "    biggest_1 = float('-inf')\n",
        "    biggest_2 = float('-inf')\n",
        "\n",
        "    for new in map(int, values):\n",
        "        temp = biggest_1\n",
        "        if new > biggest_1:\n",
        "            biggest_2 = biggest_1\n",
        "            biggest_1 = new\n",
        "        if temp > biggest_2:\n",
        "            biggest_2 = temp\n",
        "\n",
        "    return biggest_1 * biggest_2\n",
        "\n",
        "if __name__ == '__main__':\n",
        "    print(max_pairwise_efficient())"
      ]
    },
    {
      "cell_type": "code",
      "source": [
        "!python3 max_efficient.py"
      ],
      "metadata": {
        "id": "SQk-98sI7TDR"
      },
      "execution_count": null,
      "outputs": []
    },
    {
      "cell_type": "markdown",
      "metadata": {
        "id": "K08Eow0hPxcJ"
      },
      "source": [
        "Test with inputs 1 and 2\n",
        "\n",
        "\n"
      ]
    },
    {
      "cell_type": "code",
      "execution_count": null,
      "metadata": {
        "id": "1_mUee2cPxcJ"
      },
      "outputs": [],
      "source": [
        "%%writefile max_efficient2.py\n",
        "\n",
        "def max_pairwise_efficient():\n",
        "    n = int(input())\n",
        "    values = input().split()\n",
        "    biggest_1 = float('-inf')\n",
        "    biggest_2 = float('-inf')\n",
        "\n",
        "    for new in map(int, values):\n",
        "        temp = biggest_1\n",
        "        if new > biggest_1:\n",
        "            biggest_2 = biggest_1\n",
        "            biggest_1 = new\n",
        "        elif temp > biggest_2:\n",
        "            biggest_2 = temp\n",
        "\n",
        "    return biggest_1 * biggest_2\n",
        "\n",
        "if __name__ == '__main__':\n",
        "    print(max_pairwise_efficient())"
      ]
    },
    {
      "cell_type": "code",
      "source": [
        "%%writefile run_all_test2.sh\n",
        "#comparing all the executions to check the differences between the outputs\n",
        "for i in {1..2}\n",
        "do\n",
        "    python3 max_efficient2.py < input$i.txt > pythonOutput$i.txt\n",
        "done"
      ],
      "metadata": {
        "id": "S_cUuuDV7XUT"
      },
      "execution_count": null,
      "outputs": []
    },
    {
      "cell_type": "code",
      "source": [
        "!chmod u+x run_all_test2.sh\n",
        "!./run_all_test.sh"
      ],
      "metadata": {
        "id": "JB_6hemD7YgT"
      },
      "execution_count": null,
      "outputs": []
    },
    {
      "cell_type": "markdown",
      "metadata": {
        "id": "CE5DB3CmPxcJ"
      },
      "source": [
        "Test and time it with input 3"
      ]
    },
    {
      "cell_type": "code",
      "execution_count": null,
      "metadata": {
        "id": "lyLhFOoePxcJ"
      },
      "outputs": [],
      "source": [
        "!time python3 max_efficient2.py < input3.txt > pythonOutput3.txt"
      ]
    },
    {
      "cell_type": "markdown",
      "metadata": {
        "id": "HZEI236lPxcK"
      },
      "source": [
        "20 stress tests"
      ]
    },
    {
      "cell_type": "code",
      "execution_count": null,
      "metadata": {
        "id": "_LoV-p4zPxcK"
      },
      "outputs": [],
      "source": [
        "#%%writefile stressTestmax_pairwise_efficient.cpp\n",
        "import random\n",
        "\n",
        "def max_pairwise_efficient(numbers):\n",
        "    n = len(numbers)\n",
        "    biggest_1 = float('-inf')\n",
        "    biggest_2 = float('-inf')\n",
        "\n",
        "    for i in range(n):\n",
        "        new = numbers[i]\n",
        "        temp = biggest_1\n",
        "        if new > biggest_1:\n",
        "          biggest_2 = biggest_1\n",
        "          biggest_1 = new\n",
        "        if temp > biggest_2: biggest_2 = temp\n",
        "\n",
        "    return biggest_1 * biggest_2\n",
        "\n",
        "# 20 stress tests\n",
        "for _ in range(20):\n",
        "    n = random.randint(2, 12)  # Use a large n\n",
        "    numbers = [random.randint(1, 10**9) for _ in range(n)]  # Generate n random numbers between 1 and 10^9\n",
        "\n",
        "    print(\"-------------------------------------------------\")\n",
        "    print(f\"Testing with the list: {numbers}\")\n",
        "    print(f\"The efficient solution gives the result {max_pairwise_efficient(numbers)}\")\n",
        "    # Add any additional test or comparison here if needed\n",
        "    print(\"-------------------------------------------------\")"
      ]
    },
    {
      "cell_type": "markdown",
      "metadata": {
        "id": "IRVdP3iuPxcK"
      },
      "source": [
        "Count executed instructions in code and verify with inputs 1,2 and 3"
      ]
    },
    {
      "cell_type": "code",
      "execution_count": null,
      "metadata": {
        "id": "RghJOg78PxcK"
      },
      "outputs": [],
      "source": [
        "%%writefile max_pairwise_efficient.py\n",
        "import random\n",
        "execints = 0\n",
        "\n",
        "def max_pairwise_efficient(numbers):\n",
        "    global execints\n",
        "    n = len(numbers)\n",
        "    biggest_1 = float('-inf')\n",
        "    biggest_2 = float('-inf')\n",
        "    execints += 3\n",
        "\n",
        "    for i in range(n):\n",
        "        new_number = numbers[i]\n",
        "        temp = biggest_1\n",
        "        execints += 2\n",
        "        if new_number > biggest_1:\n",
        "            biggest_2 = biggest_1\n",
        "            biggest_1 = new_number\n",
        "            execints += 2\n",
        "        if temp > biggest_2:\n",
        "            biggest_2 = temp\n",
        "            execints += 2\n",
        "        execints += 2\n",
        "\n",
        "    execints += 1\n",
        "    return biggest_1 * biggest_2\n",
        "\n",
        "if __name__ == '__main__':\n",
        "    n = int(input())\n",
        "    input_line = input()\n",
        "    numbers = list(map(int, input_line.split()))  # Divide la cadena en números y convierte cada uno a entero\n",
        "    max_pairwise_efficient(numbers)\n",
        "    execints += 1\n",
        "\n",
        "    print(\"El numero de instrucciones es:\", execints)"
      ]
    },
    {
      "cell_type": "code",
      "source": [
        "%%writefile run_all_test.sh\n",
        "for i in {1..3}\n",
        "do\n",
        "    echo \"Input #$i\"\n",
        "    python3 max_pairwise_efficient.py < input$i.txt\n",
        "done"
      ],
      "metadata": {
        "id": "_fbx3Hk77h8L"
      },
      "execution_count": null,
      "outputs": []
    },
    {
      "cell_type": "code",
      "source": [
        "!chmod u+x run_all_test.sh\n",
        "!./run_all_test.sh"
      ],
      "metadata": {
        "id": "5trylsDr7jJS"
      },
      "execution_count": null,
      "outputs": []
    },
    {
      "cell_type": "markdown",
      "metadata": {
        "id": "R6qeUjPaPxcK"
      },
      "source": [
        "Calculate estimated time by instruction and number of instructions by second"
      ]
    },
    {
      "cell_type": "code",
      "source": [
        "!time python3 max_pairwise_efficient.py < input11.txt > pythonOutputSort11.txt\n",
        "!python3 max_pairwise_efficient.py < input11.txt\n",
        "num_inst_per_seg = 1200005/0.165\n",
        "print(f\"{num_inst_per_seg} tiempo por instrucción\")"
      ],
      "metadata": {
        "id": "UOHFJ87a7k4i"
      },
      "execution_count": null,
      "outputs": []
    },
    {
      "cell_type": "code",
      "execution_count": null,
      "metadata": {
        "id": "iLdXYvn3PxcK"
      },
      "outputs": [],
      "source": []
    },
    {
      "cell_type": "markdown",
      "source": [
        "### Estimate and verify the maximun n that can be solved in 1 second"
      ],
      "metadata": {
        "id": "uZGdjUwuaO4v"
      }
    },
    {
      "cell_type": "code",
      "source": [
        "import time\n",
        "import random\n",
        "n = 0 #numero de instrucciones\n",
        "\n",
        "def instruction(numbers):\n",
        "    m = len(numbers)\n",
        "    biggest_1 = float('-inf')\n",
        "    biggest_2 = float('-inf')\n",
        "    global n\n",
        "    n += 3\n",
        "\n",
        "    for i in range(m):\n",
        "        new = numbers[i]\n",
        "        temp = biggest_1\n",
        "        n += 2\n",
        "        if new > biggest_1:\n",
        "            biggest_2 = biggest_1\n",
        "            biggest_1 = new\n",
        "            n += 2\n",
        "        if temp > biggest_2:\n",
        "            biggest_2 = temp\n",
        "            n += 1\n",
        "        n += 2\n",
        "    return n\n",
        "# Ejecutar la función y medir el tiempo de ejecución\n",
        "start_time = time.time()\n",
        "numbers = [random.randint(1, 100) for _ in range(10)]\n",
        "instruction = instruction(numbers) # Suponiendo que 'numbers' es una lista válida\n",
        "end_time = time.time()\n",
        "\n",
        "# Calcular el número de instrucciones por segundo\n",
        "elapsed_time = end_time - start_time\n",
        "instructions_per_second = instruction / elapsed_time\n",
        "#print(start_time)\n",
        "#print(end_time)\n",
        "print(f\"Número de instrucciones por segundo: {instructions_per_second}\")"
      ],
      "metadata": {
        "id": "FjqFevOaaOVz"
      },
      "execution_count": null,
      "outputs": []
    },
    {
      "cell_type": "markdown",
      "source": [
        "## Perform 100 randomized automated tests in C++ and Python with a porgram  compares the answers,for the same 100 random input instances, of the super efficient solution $(T(n) < 10 n = O(n))$ against the sorting solution  $(T(n)  = O(n \\lg{n}))$,  if the answers are not the same stops and displays \"Error\" listing  the input and the two answers; if the 100 tests are completed without stoping displays \"Pass\"."
      ],
      "metadata": {
        "id": "4hHRQMXzW6oR"
      }
    },
    {
      "cell_type": "code",
      "source": [
        "%%writefile stressTest.cpp\n",
        "\n",
        "#include <iostream>\n",
        "#include <vector>\n",
        "#include <algorithm>\n",
        "#include <random>\n",
        "\n",
        "long long max_pairwise_efficient(const std::vector<int>& numbers) { //stressTestC_efficien\n",
        "    int n = numbers.size(); //1\n",
        "\n",
        "    long long biggest_1 = std::numeric_limits<long long>::min(); //1\n",
        "    long long biggest_2 = std::numeric_limits<long long>::min(); //1\n",
        "\n",
        "    for (int i = 0; i < n; ++i) { //2+2n\n",
        "        int new_number = numbers[i];\n",
        "        if (new_number > biggest_1) {\n",
        "            biggest_2 = biggest_1;\n",
        "            biggest_1 = new_number;\n",
        "        } else if (new_number > biggest_2) { //2+2n\n",
        "            biggest_2 = new_number;\n",
        "        }\n",
        "    }\n",
        "\n",
        "    return biggest_1 * biggest_2;//1\n",
        "}\n",
        "\n",
        "long long max_pairwise_product_sort(std::vector<int>& numbers) { //stressTestC_sort\n",
        "    std::sort(numbers.rbegin(), numbers.rend());\n",
        "    return static_cast<long long>(numbers[0]) * numbers[1];\n",
        "}\n",
        "\n",
        "int main() {\n",
        "    std::random_device rd;\n",
        "    std::mt19937 gen(rd());\n",
        "\n",
        "    for (int i = 0; i < 100; ++i) {\n",
        "        int n = std::uniform_int_distribution<int>(2, 12)(gen);  // Use a large n\n",
        "        std::vector<int> numbers(n);\n",
        "        for (int j = 0; j < n; ++j) {\n",
        "            numbers[j] = std::uniform_int_distribution<int>(1, 1e9)(gen);  // Generate n random numbers between 1 and 10^9\n",
        "        }\n",
        "\n",
        "        std::cout << \"-------------------------------------------------\\n\";\n",
        "        std::cout << \"Testing with the list: \";\n",
        "        for (int num : numbers) {\n",
        "            std::cout << num << \" \";\n",
        "        }\n",
        "        std::cout << \"\\n\";\n",
        "\n",
        "        long long efficient_result = max_pairwise_efficient(numbers);\n",
        "        long long comparison_result = max_pairwise_product_sort(numbers);  // Replace with your comparison function result\n",
        "\n",
        "        std::cout << \"The efficient solution gives the result \" << efficient_result << \"\\n\";\n",
        "        std::cout << \"The comparison solution gives the result \" << comparison_result << \"\\n\";\n",
        "\n",
        "        if (efficient_result == comparison_result) {\n",
        "            std::cout << \"The solution is correct OK\\n\";\n",
        "        } else {\n",
        "            std::cout << \"ERROR\\n\";\n",
        "        }\n",
        "\n",
        "        std::cout << \"-------------------------------------------------\\n\";\n",
        "    }\n",
        "\n",
        "    return 0;\n",
        "}"
      ],
      "metadata": {
        "id": "buR9vPbm7r4_"
      },
      "execution_count": null,
      "outputs": []
    },
    {
      "cell_type": "code",
      "source": [
        "!g++ stressTest.cpp -o stressTest -std=c++11\n",
        "!./stressTest"
      ],
      "metadata": {
        "id": "VfQQqoae7uA-"
      },
      "execution_count": null,
      "outputs": []
    },
    {
      "cell_type": "markdown",
      "source": [
        "En python:"
      ],
      "metadata": {
        "id": "EDQHjHJl7w75"
      }
    },
    {
      "cell_type": "code",
      "source": [
        "import random\n",
        "def max_pairwise_product_sort(numbers):\n",
        "  numbers.sort(reverse=True)\n",
        "  return numbers[0] * numbers[1]\n",
        "\n",
        "def max_pairwise_product(numbers):\n",
        "    n = len(numbers)\n",
        "    max_product = 0\n",
        "\n",
        "    for first in range(n):\n",
        "        for second in range(n):\n",
        "            if first != second:\n",
        "                aux_product = numbers[first] * numbers[second]\n",
        "\n",
        "                if aux_product > max_product:\n",
        "                  max_product = aux_product\n",
        "\n",
        "    return max_product\n",
        "\n",
        "\n",
        "for _ in range(20):  # Run the test 20 times\n",
        "    n = random.randint(2, 12)  # Use a large n\n",
        "    numbers = [random.randint(1, 10**9) for _ in range(n)]  # Generate n random numbers between 1 and 10^9\n",
        "\n",
        "    print(\"-------------------------------------------------\")\n",
        "    print(f\"Testing with the list: {numbers}\")\n",
        "    print(f\"The efficient solution gives the result {max_pairwise_product_sort(numbers)}\")\n",
        "    print(f\"The comparison solution gives the result {max_pairwise_product(numbers)}\")\n",
        "    if max_pairwise_product_sort(numbers) == max_pairwise_product(numbers):\n",
        "        print(\"The solution is correct OK\")\n",
        "    else:\n",
        "        print(\"ERROR\")\n",
        "    print(\"-------------------------------------------------\")"
      ],
      "metadata": {
        "id": "x2U0t1Pv7wTm"
      },
      "execution_count": null,
      "outputs": []
    }
  ],
  "metadata": {
    "colab": {
      "provenance": [],
      "include_colab_link": true
    },
    "kernelspec": {
      "display_name": "Python 3",
      "name": "python3"
    },
    "language_info": {
      "name": "python"
    }
  },
  "nbformat": 4,
  "nbformat_minor": 0
}